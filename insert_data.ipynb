{
 "cells": [
  {
   "cell_type": "code",
   "execution_count": 1,
   "metadata": {},
   "outputs": [],
   "source": [
    "import json\n",
    "import numpy as np\n",
    "from tqdm import tqdm\n",
    "import peewee\n",
    "import time\n",
    "import datetime\n",
    "import pandas as pd"
   ]
  },
  {
   "cell_type": "code",
   "execution_count": 2,
   "metadata": {},
   "outputs": [],
   "source": [
    "from src import orm"
   ]
  },
  {
   "cell_type": "code",
   "execution_count": 3,
   "metadata": {},
   "outputs": [
    {
     "data": {
      "text/plain": [
       "{'name': 'CATAN',\n",
       " 'release_year': 1995,\n",
       " 'category': ['Economic', 'Negotiation'],\n",
       " 'mechanic': ['Dice Rolling',\n",
       "  'Hexagon Grid',\n",
       "  'Income',\n",
       "  'Modular Board',\n",
       "  'Negotiation',\n",
       "  'Network and Route Building',\n",
       "  'Race',\n",
       "  'Random Production',\n",
       "  'Trading',\n",
       "  'Variable Set-up'],\n",
       " 'players_min': 3,\n",
       " 'players_max': 4,\n",
       " 'playtime_min': 60,\n",
       " 'playtime_max': 120,\n",
       " 'min_age': 10,\n",
       " 'is_expansion': False}"
      ]
     },
     "execution_count": 3,
     "metadata": {},
     "output_type": "execute_result"
    }
   ],
   "source": [
    "with open('data/bgg_data.json', 'r') as f:\n",
    "    games = json.load(f)\n",
    "games[0]"
   ]
  },
  {
   "cell_type": "code",
   "execution_count": 4,
   "metadata": {},
   "outputs": [
    {
     "data": {
      "text/plain": [
       "'Economic,Negotiation'"
      ]
     },
     "execution_count": 4,
     "metadata": {},
     "output_type": "execute_result"
    }
   ],
   "source": [
    "','.join(games[0]['category'])"
   ]
  },
  {
   "cell_type": "code",
   "execution_count": 5,
   "metadata": {},
   "outputs": [
    {
     "data": {
      "text/plain": [
       "<peewee.ModelTupleCursorWrapper at 0x1f9d39dddc0>"
      ]
     },
     "execution_count": 5,
     "metadata": {},
     "output_type": "execute_result"
    }
   ],
   "source": [
    "# Insert data to database\n",
    "for game in games:\n",
    "    game[\"category\"] = ','.join(game[\"category\"])\n",
    "    game[\"mechanic\"] = ','.join(game[\"mechanic\"])\n",
    "orm.Games.insert_many(games).execute()"
   ]
  },
  {
   "attachments": {},
   "cell_type": "markdown",
   "metadata": {},
   "source": [
    "## Generate Games To Sell"
   ]
  },
  {
   "cell_type": "code",
   "execution_count": 6,
   "metadata": {},
   "outputs": [
    {
     "name": "stderr",
     "output_type": "stream",
     "text": [
      "100%|██████████| 234/234 [00:00<00:00, 116994.53it/s]\n"
     ]
    },
    {
     "data": {
      "text/plain": [
       "<peewee.ModelTupleCursorWrapper at 0x1f9d3a713a0>"
      ]
     },
     "execution_count": 6,
     "metadata": {},
     "output_type": "execute_result"
    }
   ],
   "source": [
    "# Create new GameToSell for each game in Game\n",
    "games_to_sell = []\n",
    "for game in tqdm(orm.Games.select()):\n",
    "    games_to_sell.append({\n",
    "        \"game_id\": game.id,\n",
    "        \"price\": round(max(min(np.random.normal(100, 30), 200.0), 60.0), 2),\n",
    "        \"amount\": np.random.randint(0, 5)\n",
    "    })\n",
    "orm.GamesToSell.insert_many(games_to_sell).execute()\n"
   ]
  },
  {
   "attachments": {},
   "cell_type": "markdown",
   "metadata": {},
   "source": [
    "## Generate employees"
   ]
  },
  {
   "cell_type": "code",
   "execution_count": 7,
   "metadata": {},
   "outputs": [],
   "source": [
    "first_day_timestamp = '2018-06-01'"
   ]
  },
  {
   "cell_type": "code",
   "execution_count": 8,
   "metadata": {},
   "outputs": [
    {
     "data": {
      "text/plain": [
       "<peewee.ModelTupleCursorWrapper at 0x1f9d39c3100>"
      ]
     },
     "execution_count": 8,
     "metadata": {},
     "output_type": "execute_result"
    }
   ],
   "source": [
    "orm.Employees.insert_many([\n",
    "    {\n",
    "        'first_name': 'Marzena', 'last_name': 'Rybak', 'email': '268951@student.pwr.edu.pl', 'phone': '538692385',\n",
    "        'hired_date': first_day_timestamp, 'position': 'manager', 'date_end_of_work': None, 'salary': None\n",
    "    },\n",
    "    {\n",
    "        'first_name': 'Adrian', 'last_name': 'Radziewicz', 'email': '268816@student.pwr.edu.pl', 'phone': '555333111',\n",
    "        'hired_date': first_day_timestamp, 'position': 'mangager', 'date_end_of_work': None, 'salary': 4000.0\n",
    "    },\n",
    "    {\n",
    "        'first_name': 'Damian', 'last_name': 'Bojarun', 'email': '268814@student.pwr.edu.pl', 'phone': '213721379',\n",
    "        'hired_date': first_day_timestamp, 'position': 'mangager', 'date_end_of_work': None, 'salary': 4500.0\n",
    "    },\n",
    "    {\n",
    "        'first_name': 'Jakub', 'last_name': 'Borcoń', 'email': '268834@student.pwr.edu.pl', 'phone': '556478789',\n",
    "        'hired_date': first_day_timestamp, 'position': 'mangager', 'date_end_of_work': None, 'salary': 4499.0\n",
    "    }\n",
    "]).execute()"
   ]
  },
  {
   "cell_type": "code",
   "execution_count": 9,
   "metadata": {},
   "outputs": [
    {
     "data": {
      "text/plain": [
       "('Mary', 'Parker')"
      ]
     },
     "execution_count": 9,
     "metadata": {},
     "output_type": "execute_result"
    }
   ],
   "source": [
    "top_first_names = pd.read_csv(\"./data/new-top-firstNames.csv\", sep=\",\")\n",
    "top_last_names = pd.read_csv(\"./data/new-top-surnames.csv\", sep=\",\")\n",
    "top_first_names[\"newPerct2013\"] = top_first_names[\"newPerct2013\"] / top_first_names[\"newPerct2013\"].sum()\n",
    "top_last_names[\"newPerct2013\"] = top_last_names[\"perct2013\"] / top_last_names[\"perct2013\"].sum()\n",
    "\n",
    "def get_random_name():\n",
    "    first_name = np.random.choice(top_first_names[\"name\"], p=top_first_names[\"newPerct2013\"])\n",
    "    last_name = np.random.choice(top_last_names[\"name\"], p=top_last_names[\"newPerct2013\"])\n",
    "    # last name is uppercased - fix that\n",
    "    last_name = last_name[0] + last_name[1:].lower()\n",
    "    return first_name, last_name\n",
    "get_random_name()"
   ]
  },
  {
   "cell_type": "code",
   "execution_count": 10,
   "metadata": {},
   "outputs": [],
   "source": [
    "cashiers = []\n",
    "phone_numbers = set(orm.Employees.select(orm.Employees.phone))\n",
    "stopped_working = 0\n",
    "\n",
    "for _ in range(5):\n",
    "    first_name, last_name = get_random_name()\n",
    "    phone = \"\".join([str(np.random.randint(0, 10)) for _ in range(9)])\n",
    "    if phone[0] == \"0\":\n",
    "        phone = str(np.random.randint(1, 10)) + phone[1:]\n",
    "    while phone in phone_numbers:\n",
    "        phone = \"\".join([str(np.random.randint(0, 10)) for _ in range(9)])\n",
    "        if phone[0] == \"0\":\n",
    "            phone = str(np.random.randint(1, 10)) + phone[1:]\n",
    "    phone_numbers.add(phone)\n",
    "\n",
    "    email_variant = np.random.choice([\"first,last\", \"first,dot,last\", \"first,numbers\", \n",
    "                                      \"last,first\", \"last,numbers\", \"first,last,numbers\", \n",
    "                                      \"last,first,numbers\", \"last,dot,first\", \"first,dot,last,numbers\", \"last,dot,first,numbers\"\n",
    "                                      ])\n",
    "\n",
    "    email = \"\"\n",
    "    for email_part in email_variant.split(\",\"):\n",
    "        if email_part == \"first\":\n",
    "            email += first_name\n",
    "        elif email_part == \"last\":\n",
    "            email += last_name\n",
    "        elif email_part == \"numbers\":\n",
    "            email += \"\".join([str(np.random.randint(0, 10)) for _ in range(np.random.randint(1, 4))])\n",
    "        elif email_part == \"dot\":\n",
    "            email += \".\"\n",
    "\n",
    "    # Add email provider from gmail outlook etc\n",
    "    email += \"@\" + np.random.choice([\"gmail\", \"outlook\", \"yahoo\", \"protonmail\", \"tutanota\"]) + \".com\"\n",
    "\n",
    "    # Get random date between 2018-06-01 and 2019-06-01\n",
    "    date_start_work = datetime.datetime(2018, 7, 20) + datetime.timedelta(days=np.random.randint(0, 365))\n",
    "    date_end_work = None\n",
    "    if np.random.rand() < 0.3 and stopped_working < 2:\n",
    "        stopped_working += 1\n",
    "        date_end_work = date_start_work + datetime.timedelta(days=np.random.randint(365, 765))\n",
    "\n",
    "    cashiers.append({\n",
    "        'first_name': first_name, 'last_name': last_name, 'email': email, 'phone': phone,\n",
    "        'hired_date': date_start_work, \n",
    "        'position': 'cashier', \n",
    "        'date_end_of_work': date_end_work, \n",
    "        'salary': np.random.choice([3600, 3650, 3700, 3750, 3800])\n",
    "    })\n"
   ]
  },
  {
   "cell_type": "code",
   "execution_count": 11,
   "metadata": {},
   "outputs": [
    {
     "data": {
      "text/plain": [
       "<peewee.ModelTupleCursorWrapper at 0x1f9d3a57fd0>"
      ]
     },
     "execution_count": 11,
     "metadata": {},
     "output_type": "execute_result"
    }
   ],
   "source": [
    "orm.Employees.insert_many(cashiers).execute()"
   ]
  },
  {
   "attachments": {},
   "cell_type": "markdown",
   "metadata": {},
   "source": [
    "## Generate sales history"
   ]
  },
  {
   "cell_type": "code",
   "execution_count": 12,
   "metadata": {},
   "outputs": [],
   "source": [
    "games_to_sell_ids = [game.id for game in orm.GamesToSell.select()]\n",
    "employees = [employee for employee in orm.Employees.select()]"
   ]
  },
  {
   "cell_type": "code",
   "execution_count": 13,
   "metadata": {},
   "outputs": [],
   "source": [
    "shop_start_date = datetime.date(2018, 6, 1)\n",
    "covid_start_date = datetime.date(2020, 3, 12)\n",
    "covid_end_date = datetime.date(2020, 5, 4)\n",
    "shop_end_date = datetime.date(2023, 6, 28)"
   ]
  },
  {
   "cell_type": "code",
   "execution_count": 14,
   "metadata": {},
   "outputs": [
    {
     "data": {
      "text/plain": [
       "'2018-06-01'"
      ]
     },
     "execution_count": 14,
     "metadata": {},
     "output_type": "execute_result"
    }
   ],
   "source": [
    "employees[0].hired_date.strftime(\"%Y-%m-%d\")"
   ]
  },
  {
   "cell_type": "code",
   "execution_count": 15,
   "metadata": {},
   "outputs": [
    {
     "name": "stderr",
     "output_type": "stream",
     "text": [
      "100%|██████████| 650/650 [00:00<00:00, 820.64it/s]\n",
      "100%|██████████| 1150/1150 [00:01<00:00, 948.42it/s]\n"
     ]
    }
   ],
   "source": [
    "sales = []\n",
    "for day in tqdm(range((covid_start_date - shop_start_date).days)):\n",
    "    # If this is a Sunday skip\n",
    "    if (shop_start_date + datetime.timedelta(days=day)).weekday() == 6:\n",
    "        continue\n",
    "    this_date_str = (shop_start_date + datetime.timedelta(days=day)).strftime(\"%Y-%m-%d\")\n",
    "    # Filter out employees that were not hired this day\n",
    "    employees_ids = []\n",
    "    for employee in employees:\n",
    "        if employee.hired_date.strftime(\"%Y-%m-%d\") <= this_date_str and (employee.date_end_of_work is None or employee.date_end_of_work.strftime(\"%Y-%m-%d\") > this_date_str):\n",
    "            employees_ids.append(employee.id)\n",
    "    employees_this_day = np.random.choice(employees_ids, size=4, replace=False)\n",
    "    no_sales = np.random.randint(10, 30)\n",
    "    for _ in range(no_sales):\n",
    "        sales.append({\n",
    "            \"employee_id\": np.random.choice(employees_this_day),\n",
    "            \"game_id\": np.random.choice(games_to_sell_ids),\n",
    "            \"date\": this_date_str + \" \" + str(np.random.randint(10, 18)) + \":\" + str(np.random.randint(0, 60)) + \":\" + str(np.random.randint(0, 60)),\n",
    "        })\n",
    "\n",
    "for day in tqdm(range((shop_end_date - covid_end_date).days)):\n",
    "    # If this is a Sunday skip\n",
    "    if (covid_end_date + datetime.timedelta(days=day)).weekday() == 6:\n",
    "        continue\n",
    "    this_date_str = (covid_end_date + datetime.timedelta(days=day)).strftime(\"%Y-%m-%d\")\n",
    "    # Filter out employees that were not hired this day\n",
    "    employees_ids = []\n",
    "    for employee in employees:\n",
    "        if employee.hired_date.strftime(\"%Y-%m-%d\") <= this_date_str and (employee.date_end_of_work is None or employee.date_end_of_work.strftime(\"%Y-%m-%d\") > this_date_str):\n",
    "            employees_ids.append(employee.id)\n",
    "    employees_this_day = np.random.choice(employees_ids, size=4, replace=False)\n",
    "    no_sales = np.random.randint(10, 30)\n",
    "    for _ in range(no_sales):\n",
    "        sales.append({\n",
    "            \"employee_id\": np.random.choice(employees_this_day),\n",
    "            \"game_id\": np.random.choice(games_to_sell_ids),\n",
    "            \"date\": this_date_str + \" \" + str(np.random.randint(10, 18)) + \":\" + str(np.random.randint(0, 60)) + \":\" + str(np.random.randint(0, 60)),\n",
    "        })"
   ]
  },
  {
   "cell_type": "code",
   "execution_count": 16,
   "metadata": {},
   "outputs": [],
   "source": [
    "# Sort sales by date\n",
    "sales = sorted(sales, key=lambda x: x[\"date\"])"
   ]
  },
  {
   "cell_type": "code",
   "execution_count": 17,
   "metadata": {},
   "outputs": [
    {
     "data": {
      "text/plain": [
       "<peewee.ModelTupleCursorWrapper at 0x1f9d5b9a040>"
      ]
     },
     "execution_count": 17,
     "metadata": {},
     "output_type": "execute_result"
    }
   ],
   "source": [
    "# Insert sales into db\n",
    "orm.Sales.insert_many(sales).execute()"
   ]
  },
  {
   "attachments": {},
   "cell_type": "markdown",
   "metadata": {},
   "source": [
    "## Generate additional payment"
   ]
  },
  {
   "cell_type": "code",
   "execution_count": 18,
   "metadata": {},
   "outputs": [
    {
     "data": {
      "text/plain": [
       "<peewee.ModelTupleCursorWrapper at 0x1f9d5b9a850>"
      ]
     },
     "execution_count": 18,
     "metadata": {},
     "output_type": "execute_result"
    }
   ],
   "source": [
    "orm.AdditionalPayment.insert_many([\n",
    "    {'days_paid_time_min': 0,  'days_paid_time_max': 14, 'payment_percent': 0.0},\n",
    "    {'days_paid_time_min': 14, 'days_paid_time_max': 21, 'payment_percent': 0.1},\n",
    "    {'days_paid_time_min': 21, 'days_paid_time_max': 28, 'payment_percent': 0.2},\n",
    "    {'days_paid_time_min': 28, 'days_paid_time_max': 999, 'payment_percent': 0.5},\n",
    "]).execute()"
   ]
  },
  {
   "attachments": {},
   "cell_type": "markdown",
   "metadata": {},
   "source": [
    "## Generate GamesToRent"
   ]
  },
  {
   "cell_type": "code",
   "execution_count": 19,
   "metadata": {},
   "outputs": [],
   "source": [
    "# Generate GamesToRent based on Games\n",
    "games_to_rent = []\n",
    "for game in orm.Games.select():\n",
    "    # Find corresponding game in GamesToSell\n",
    "    game_to_sell = orm.GamesToSell.get(orm.GamesToSell.game_id == game.id)\n",
    "\n",
    "    for _ in range(np.random.randint(1, 10)):\n",
    "        is_discounted = np.random.choice([True, False], p=[0.1, 0.9])\n",
    "        date = (shop_start_date + datetime.timedelta(days=np.random.randint(0, 365))).strftime(\"%Y-%m-%d\")\n",
    "        games_to_rent.append({\n",
    "            \"game_id\": game.id,\n",
    "            \"price\": round(game_to_sell.price * 0.1, 2),\n",
    "            \"discount\": 0.3 if is_discounted else 0,\n",
    "            \"date\": date + \" \" + str(np.random.randint(10, 17)) + \":\" + str(np.random.randint(0, 60)) + \":\" + str(np.random.randint(0, 60)),\n",
    "            \"comments\": \"Missing parts\" if is_discounted else \"\",\n",
    "            \"rented\": False\n",
    "        })"
   ]
  },
  {
   "cell_type": "code",
   "execution_count": 20,
   "metadata": {},
   "outputs": [
    {
     "data": {
      "text/plain": [
       "{'game_id': 1,\n",
       " 'price': 10.64,\n",
       " 'discount': 0,\n",
       " 'date': '2019-01-13 13:25:17',\n",
       " 'comments': '',\n",
       " 'rented': False}"
      ]
     },
     "execution_count": 20,
     "metadata": {},
     "output_type": "execute_result"
    }
   ],
   "source": [
    "games_to_rent[2]"
   ]
  },
  {
   "cell_type": "code",
   "execution_count": 21,
   "metadata": {},
   "outputs": [],
   "source": [
    "games_to_rent = sorted(games_to_rent, key=lambda x: x[\"date\"])"
   ]
  },
  {
   "cell_type": "code",
   "execution_count": 22,
   "metadata": {},
   "outputs": [
    {
     "data": {
      "text/plain": [
       "<peewee.ModelTupleCursorWrapper at 0x1f9d3aa67c0>"
      ]
     },
     "execution_count": 22,
     "metadata": {},
     "output_type": "execute_result"
    }
   ],
   "source": [
    "# Insert GamesToRent into db\n",
    "orm.GamesToRent.insert_many(games_to_rent).execute()"
   ]
  },
  {
   "attachments": {},
   "cell_type": "markdown",
   "metadata": {},
   "source": [
    "## Generate customers"
   ]
  },
  {
   "cell_type": "code",
   "execution_count": 23,
   "metadata": {},
   "outputs": [],
   "source": [
    "top_first_names = pd.read_csv(\"./data/new-top-firstNames.csv\", sep=\",\")\n",
    "top_last_names = pd.read_csv(\"./data/new-top-surnames.csv\", sep=\",\")"
   ]
  },
  {
   "cell_type": "code",
   "execution_count": 24,
   "metadata": {},
   "outputs": [
    {
     "data": {
      "text/html": [
       "<div>\n",
       "<style scoped>\n",
       "    .dataframe tbody tr th:only-of-type {\n",
       "        vertical-align: middle;\n",
       "    }\n",
       "\n",
       "    .dataframe tbody tr th {\n",
       "        vertical-align: top;\n",
       "    }\n",
       "\n",
       "    .dataframe thead th {\n",
       "        text-align: right;\n",
       "    }\n",
       "</style>\n",
       "<table border=\"1\" class=\"dataframe\">\n",
       "  <thead>\n",
       "    <tr style=\"text-align: right;\">\n",
       "      <th></th>\n",
       "      <th>Unnamed: 0</th>\n",
       "      <th>name</th>\n",
       "      <th>newPerct2013</th>\n",
       "    </tr>\n",
       "  </thead>\n",
       "  <tbody>\n",
       "    <tr>\n",
       "      <th>0</th>\n",
       "      <td>1</td>\n",
       "      <td>Michael</td>\n",
       "      <td>0.011577</td>\n",
       "    </tr>\n",
       "    <tr>\n",
       "      <th>1</th>\n",
       "      <td>2</td>\n",
       "      <td>James</td>\n",
       "      <td>0.010218</td>\n",
       "    </tr>\n",
       "    <tr>\n",
       "      <th>2</th>\n",
       "      <td>3</td>\n",
       "      <td>John</td>\n",
       "      <td>0.009675</td>\n",
       "    </tr>\n",
       "    <tr>\n",
       "      <th>3</th>\n",
       "      <td>4</td>\n",
       "      <td>Robert</td>\n",
       "      <td>0.009493</td>\n",
       "    </tr>\n",
       "    <tr>\n",
       "      <th>4</th>\n",
       "      <td>5</td>\n",
       "      <td>David</td>\n",
       "      <td>0.008943</td>\n",
       "    </tr>\n",
       "  </tbody>\n",
       "</table>\n",
       "</div>"
      ],
      "text/plain": [
       "   Unnamed: 0     name  newPerct2013\n",
       "0           1  Michael      0.011577\n",
       "1           2    James      0.010218\n",
       "2           3     John      0.009675\n",
       "3           4   Robert      0.009493\n",
       "4           5    David      0.008943"
      ]
     },
     "execution_count": 24,
     "metadata": {},
     "output_type": "execute_result"
    }
   ],
   "source": [
    "top_first_names.head()"
   ]
  },
  {
   "cell_type": "code",
   "execution_count": 25,
   "metadata": {},
   "outputs": [],
   "source": [
    "top_first_names[\"newPerct2013\"] = top_first_names[\"newPerct2013\"] / top_first_names[\"newPerct2013\"].sum()\n",
    "top_last_names[\"newPerct2013\"] = top_last_names[\"perct2013\"] / top_last_names[\"perct2013\"].sum()"
   ]
  },
  {
   "cell_type": "code",
   "execution_count": 26,
   "metadata": {},
   "outputs": [
    {
     "data": {
      "text/plain": [
       "('Mary', 'Gray')"
      ]
     },
     "execution_count": 26,
     "metadata": {},
     "output_type": "execute_result"
    }
   ],
   "source": [
    "def get_random_name():\n",
    "    first_name = np.random.choice(top_first_names[\"name\"], p=top_first_names[\"newPerct2013\"])\n",
    "    last_name = np.random.choice(top_last_names[\"name\"], p=top_last_names[\"newPerct2013\"])\n",
    "    # last name is uppercased - fix that\n",
    "    last_name = last_name[0] + last_name[1:].lower()\n",
    "    return first_name, last_name\n",
    "get_random_name()"
   ]
  },
  {
   "cell_type": "code",
   "execution_count": 27,
   "metadata": {},
   "outputs": [
    {
     "name": "stderr",
     "output_type": "stream",
     "text": [
      "100%|██████████| 1000/1000 [00:00<00:00, 4300.65it/s]\n"
     ]
    }
   ],
   "source": [
    "customers = []\n",
    "phone_numbers = set(orm.Employees.select(orm.Employees.phone))\n",
    "\n",
    "no_customers = 1000\n",
    "for _ in tqdm(range(no_customers)):\n",
    "    first_name, last_name = get_random_name()\n",
    "\n",
    "    phone = \"\".join([str(np.random.randint(0, 10)) for _ in range(9)])\n",
    "    if phone[0] == \"0\":\n",
    "        phone = str(np.random.randint(1, 10)) + phone[1:]\n",
    "    while phone in phone_numbers:\n",
    "        phone = \"\".join([str(np.random.randint(0, 10)) for _ in range(9)])\n",
    "        if phone[0] == \"0\":\n",
    "            phone = str(np.random.randint(1, 10)) + phone[1:]\n",
    "    phone_numbers.add(phone)\n",
    "\n",
    "    email_variant = np.random.choice([\"first,last\", \"first,dot,last\", \"first,numbers\", \n",
    "                                      \"last,first\", \"last,numbers\", \"first,last,numbers\", \n",
    "                                      \"last,first,numbers\", \"last,dot,first\", \"first,dot,last,numbers\", \"last,dot,first,numbers\"\n",
    "                                      ])\n",
    "\n",
    "    email = \"\"\n",
    "    for email_part in email_variant.split(\",\"):\n",
    "        if email_part == \"first\":\n",
    "            email += first_name\n",
    "        elif email_part == \"last\":\n",
    "            email += last_name\n",
    "        elif email_part == \"numbers\":\n",
    "            email += \"\".join([str(np.random.randint(0, 10)) for _ in range(np.random.randint(1, 4))])\n",
    "        elif email_part == \"dot\":\n",
    "            email += \".\"\n",
    "\n",
    "    # Add email provider from gmail outlook etc\n",
    "    email += \"@\" + np.random.choice([\"gmail\", \"outlook\", \"yahoo\", \"protonmail\", \"tutanota\"]) + \".com\"\n",
    "\n",
    "    customers.append({\n",
    "        \"first_name\": first_name,\n",
    "        \"last_name\": last_name,\n",
    "        \"phone\": phone,\n",
    "        \"email\": email,\n",
    "        \"discount\": 0.0,\n",
    "        # Make this temporary date between shop start and end date\n",
    "        \"date_of_registration\": shop_start_date + datetime.timedelta(days=np.random.randint(0, (shop_end_date - shop_start_date).days)),\n",
    "    })"
   ]
  },
  {
   "cell_type": "code",
   "execution_count": 28,
   "metadata": {},
   "outputs": [],
   "source": [
    "# Sort customers\n",
    "customers = sorted(customers, key=lambda x: x[\"date_of_registration\"])"
   ]
  },
  {
   "cell_type": "code",
   "execution_count": 29,
   "metadata": {},
   "outputs": [],
   "source": [
    "covid_len = (covid_end_date - covid_start_date)\n",
    "# Iterate over customers and fix dates that are in covid\n",
    "for customer in customers:\n",
    "    first_rental = customer[\"date_of_registration\"]\n",
    "    # Check if date is in covid\n",
    "    if first_rental >= covid_start_date and first_rental <= covid_end_date:\n",
    "        # Fix date\n",
    "        # If its before middle of covid move it pre covid\n",
    "        if first_rental < covid_start_date + covid_len / 2:\n",
    "            customer[\"date_of_registration\"] = covid_start_date - datetime.timedelta(days=np.random.randint(0, 64))\n",
    "        elif first_rental >= covid_start_date + covid_len / 2:\n",
    "            customer[\"date_of_registration\"] = covid_end_date + datetime.timedelta(days=np.random.randint(0, 64))\n",
    "    # Get str from date\n",
    "    customer[\"date_of_registration\"] = customer[\"date_of_registration\"].strftime(\"%Y-%m-%d\")\n",
    "    # Add random hours and minutes and seconds to date\n",
    "    new_date =  customer[\"date_of_registration\"] + \" \" + str(np.random.randint(10, 17)) + \":\" + str(np.random.randint(0, 60)) + \":\" + str(np.random.randint(0, 60))\n",
    "\n",
    "    customer[\"date_of_registration\"] = new_date"
   ]
  },
  {
   "cell_type": "code",
   "execution_count": 30,
   "metadata": {},
   "outputs": [
    {
     "data": {
      "text/plain": [
       "{'first_name': 'Donald',\n",
       " 'last_name': 'Price',\n",
       " 'phone': '563589581',\n",
       " 'email': 'DonaldPrice184@outlook.com',\n",
       " 'discount': 0.0,\n",
       " 'date_of_registration': '2018-06-09 10:4:4'}"
      ]
     },
     "execution_count": 30,
     "metadata": {},
     "output_type": "execute_result"
    }
   ],
   "source": [
    "customers = sorted(customers, key=lambda x: x[\"date_of_registration\"])\n",
    "customers[0]"
   ]
  },
  {
   "cell_type": "code",
   "execution_count": 31,
   "metadata": {},
   "outputs": [
    {
     "data": {
      "text/plain": [
       "<peewee.ModelTupleCursorWrapper at 0x1f9d39c3040>"
      ]
     },
     "execution_count": 31,
     "metadata": {},
     "output_type": "execute_result"
    }
   ],
   "source": [
    "# Insert customers into db\n",
    "orm.Customers.insert_many(customers).execute()"
   ]
  },
  {
   "attachments": {},
   "cell_type": "markdown",
   "metadata": {},
   "source": [
    "## Prizes"
   ]
  },
  {
   "cell_type": "code",
   "execution_count": 32,
   "metadata": {},
   "outputs": [],
   "source": [
    "# This should be generated with tournaments"
   ]
  },
  {
   "attachments": {},
   "cell_type": "markdown",
   "metadata": {},
   "source": [
    "## Simulate Rental"
   ]
  },
  {
   "cell_type": "code",
   "execution_count": 33,
   "metadata": {},
   "outputs": [],
   "source": [
    "import simpy as sp\n",
    "from copy import copy, deepcopy"
   ]
  },
  {
   "cell_type": "code",
   "execution_count": 34,
   "metadata": {},
   "outputs": [],
   "source": [
    "sim_data = []\n",
    "env = sp.Environment()\n",
    "customers = orm.Customers.select()\n",
    "games_to_rent = orm.GamesToRent.select()"
   ]
  },
  {
   "cell_type": "code",
   "execution_count": 35,
   "metadata": {},
   "outputs": [
    {
     "data": {
      "text/plain": [
       "(1000, 1162)"
      ]
     },
     "execution_count": 35,
     "metadata": {},
     "output_type": "execute_result"
    }
   ],
   "source": [
    "len(customers), len(games_to_rent)"
   ]
  },
  {
   "cell_type": "code",
   "execution_count": 36,
   "metadata": {},
   "outputs": [],
   "source": [
    "class SimGameToRent(object):\n",
    "    def __init__(self, env, game_data):\n",
    "        self.resource = sp.Resource(env, capacity=1)\n",
    "        self.count = 0\n",
    "        self.game_data = game_data\n",
    "\n",
    "    def after_return(self, current_day):\n",
    "        self.count += 1\n",
    "        if self.count > 10:\n",
    "            if np.random.random() < 0.1:\n",
    "                self.game_data.date_of_delete = current_day\n",
    "        if self.count > 25:\n",
    "            self.game_data.date_of_delete = current_day"
   ]
  },
  {
   "cell_type": "code",
   "execution_count": 37,
   "metadata": {},
   "outputs": [],
   "source": [
    "class GameListContainer():\n",
    "    def __init__(self, games_to_rent) -> None:\n",
    "        self.game_list = games_to_rent\n",
    "        self.removed_games = []\n",
    "        self._games = orm.Games.select()\n",
    "\n",
    "    def remove_game(self, game):\n",
    "        self.game_list.remove(game)\n",
    "        self.removed_games.append(game)\n",
    "\n",
    "    def add_game(self, curr_date):\n",
    "        # Get random game from orm.Games\n",
    "        game = np.random.choice(self._games)\n",
    "        # Get price from orm.GamesToSell\n",
    "        new_price = orm.GamesToSell.select().where(orm.GamesToSell.game_id == game.id).get().price\n",
    "        new_date = curr_date + datetime.timedelta(days=np.random.randint(1, 4))\n",
    "        # Check if it is sunday\n",
    "        if new_date.weekday() == 6:\n",
    "            new_date += datetime.timedelta(days=1)\n",
    "        new_game = {\n",
    "            \"game_id\": game.id,\n",
    "            # Add this game in 1-3 days\n",
    "            \"date\": new_date,\n",
    "            \"date_of_delete\": None,\n",
    "            \"price\": new_price * 0.1,\n",
    "            \"discount\": 0.0,\n",
    "            \"comments\": \"\",\n",
    "            \"rented\": False,\n",
    "        }\n",
    "        new_game = orm.GamesToRent(**new_game)\n",
    "\n",
    "        new_game = SimGameToRent(env, new_game)\n",
    "\n",
    "        print(\"Adding new game: \", game.name, \" \", new_date)\n",
    "        self.game_list.append(new_game)\n",
    "        return new_game\n",
    "\n",
    "    def get_random_game(self, curr_date):\n",
    "        res = None\n",
    "        retries = 5\n",
    "        while res is None and retries > 0:\n",
    "            tmp = np.random.choice(self.game_list)\n",
    "            retries -= 1\n",
    "            # Check if game date is not in future\n",
    "            if tmp.game_data.date > curr_date:\n",
    "                continue\n",
    "            if tmp.game_data.date_of_delete is None and tmp.resource.count == 0:\n",
    "                res = tmp\n",
    "            else:\n",
    "                # Get base game from orm.Games\n",
    "                game = orm.Games.select().where(orm.Games.id == tmp.game_data.game_id).get()\n",
    "                print(\"Removing game: \", game.name, \" \", curr_date)\n",
    "                self.remove_game(tmp)\n",
    "                tmp.game_data.date_of_delete = curr_date\n",
    "                res = self.add_game(curr_date)\n",
    "        return res"
   ]
  },
  {
   "cell_type": "code",
   "execution_count": 38,
   "metadata": {},
   "outputs": [],
   "source": [
    "# Create SimGameToRent objects\n",
    "sim_games_to_rent = []\n",
    "for game in games_to_rent:\n",
    "    sim_games_to_rent.append(SimGameToRent(env, game))"
   ]
  },
  {
   "cell_type": "code",
   "execution_count": 39,
   "metadata": {},
   "outputs": [],
   "source": [
    "game_list_container = GameListContainer(sim_games_to_rent)"
   ]
  },
  {
   "cell_type": "code",
   "execution_count": 40,
   "metadata": {},
   "outputs": [],
   "source": [
    "class SimCustomer(object):\n",
    "    def __init__(self, env, customer_data, games_container):\n",
    "        self.env = env\n",
    "        self.customer_data = customer_data\n",
    "        self.rented_game = None\n",
    "        self.rented_games_history = []\n",
    "\n",
    "        self.games_container = games_container\n",
    "\n",
    "        self.action = env.process(self.run())\n",
    "\n",
    "    def run(self):\n",
    "        while True:\n",
    "            first_rental_date = self.customer_data.date_of_registration\n",
    "            current_time = shop_start_date + datetime.timedelta(days=int(self.env.now))\n",
    "            # Timeout until first rental if current time is before first rental\n",
    "            if current_time < first_rental_date:\n",
    "                yield self.env.timeout((first_rental_date - shop_start_date).days)\n",
    "                continue\n",
    "\n",
    "            # Check if current time is in covid\n",
    "            if current_time >= covid_start_date and current_time <= covid_end_date:\n",
    "                yield self.env.timeout(1)\n",
    "                continue\n",
    "\n",
    "            # Check if current day is sunday\n",
    "            if current_time.weekday() == 6:\n",
    "                yield self.env.timeout(1)\n",
    "                continue\n",
    "\n",
    "            game = self.games_container.get_random_game(current_time)\n",
    "            if game is None:\n",
    "                yield self.env.timeout(1)\n",
    "                continue\n",
    "            with game.resource.request():\n",
    "                current_time = shop_start_date + datetime.timedelta(days=int(self.env.now))\n",
    "                # Copy current time\n",
    "                rent_time = deepcopy(current_time)\n",
    "                # Borrow game for random time\n",
    "                return_week = np.random.choice([0, 1, 2, 3, 4], p=[0.9, 0.05, 0.02, 0.02, 0.01])\n",
    "                yield self.env.timeout(np.random.randint(1, 8) + return_week * 7)\n",
    "\n",
    "                # Recalculate current time\n",
    "                current_time = shop_start_date + datetime.timedelta(days=int(self.env.now))\n",
    "                # if this is sunday, add or remove 1 day\n",
    "                if current_time.weekday() == 6:\n",
    "                    current_time += datetime.timedelta(days=1 if np.random.random() < 0.5 else -1)\n",
    "                self.rented_games_history.append((game.game_data, rent_time, deepcopy(current_time)))\n",
    "                # Return game\n",
    "                game.after_return(current_time)\n",
    "\n",
    "            if np.random.random() < 0.5:\n",
    "                # With 30% chance wait max 2 weeks\n",
    "                if np.random.random() < 0.3:\n",
    "                    yield self.env.timeout(np.random.randint(2, 14))\n",
    "                    continue\n",
    "                yield self.env.timeout(np.random.randint(14, 30))\n",
    "            else:\n",
    "                # In 40% of left cases never come back\n",
    "                if np.random.random() < 0.4:\n",
    "                    yield self.env.timeout(10000)\n",
    "                    break\n"
   ]
  },
  {
   "cell_type": "code",
   "execution_count": 41,
   "metadata": {},
   "outputs": [],
   "source": [
    "# Create customers list\n",
    "sim_customers = []\n",
    "for customer in customers:\n",
    "    sim_customers.append(SimCustomer(env, customer, game_list_container))"
   ]
  },
  {
   "cell_type": "code",
   "execution_count": 42,
   "metadata": {},
   "outputs": [
    {
     "data": {
      "text/plain": [
       "datetime.datetime(2018, 6, 1, 0, 0)"
      ]
     },
     "execution_count": 42,
     "metadata": {},
     "output_type": "execute_result"
    }
   ],
   "source": [
    "# Cast shop dates to datetime\n",
    "shop_start_date = datetime.datetime(shop_start_date.year, shop_start_date.month, shop_start_date.day)\n",
    "covid_start_date = datetime.datetime(covid_start_date.year, covid_start_date.month, covid_start_date.day)\n",
    "covid_end_date = datetime.datetime(covid_end_date.year, covid_end_date.month, covid_end_date.day)\n",
    "shop_end_date = datetime.datetime(shop_end_date.year, shop_end_date.month, shop_end_date.day)\n",
    "shop_start_date"
   ]
  },
  {
   "cell_type": "code",
   "execution_count": 43,
   "metadata": {},
   "outputs": [
    {
     "name": "stderr",
     "output_type": "stream",
     "text": [
      " 10%|█         | 193/1852 [00:00<00:05, 311.76it/s]"
     ]
    },
    {
     "name": "stdout",
     "output_type": "stream",
     "text": [
      "Removing game:  Sushi Go Party!   2018-11-28 00:00:00\n",
      "Adding new game:  Mascarade (second edition)   2018-12-01 00:00:00\n"
     ]
    },
    {
     "name": "stderr",
     "output_type": "stream",
     "text": [
      " 19%|█▉        | 353/1852 [00:01<00:04, 365.15it/s]"
     ]
    },
    {
     "name": "stdout",
     "output_type": "stream",
     "text": [
      "Removing game:  Dune   2019-03-12 00:00:00\n",
      "Adding new game:  Cloudspire   2019-03-15 00:00:00\n",
      "Removing game:  My Father's Work   2019-04-19 00:00:00\n",
      "Adding new game:  Nova Luna   2019-04-22 00:00:00\n",
      "Removing game:  Woodcraft   2019-04-20 00:00:00\n",
      "Adding new game:  The Witcher: The Adventure Card Game   2019-04-23 00:00:00\n"
     ]
    },
    {
     "name": "stderr",
     "output_type": "stream",
     "text": [
      " 28%|██▊       | 522/1852 [00:01<00:02, 501.27it/s]"
     ]
    },
    {
     "name": "stdout",
     "output_type": "stream",
     "text": [
      "Removing game:  Sub Terra   2019-07-01 00:00:00\n",
      "Adding new game:  Fields of Arle   2019-07-04 00:00:00\n"
     ]
    },
    {
     "name": "stderr",
     "output_type": "stream",
     "text": [
      " 38%|███▊      | 705/1852 [00:01<00:01, 700.99it/s]"
     ]
    },
    {
     "name": "stdout",
     "output_type": "stream",
     "text": [
      "Removing game:  Ticket to Ride: Rails & Sails   2019-11-26 00:00:00\n",
      "Adding new game:  The Witcher: Old World   2019-11-27 00:00:00\n",
      "Removing game:  The Witcher: Old World   2020-02-25 00:00:00\n",
      "Adding new game:  The Isle of Cats   2020-02-28 00:00:00\n"
     ]
    },
    {
     "name": "stderr",
     "output_type": "stream",
     "text": [
      " 42%|████▏     | 776/1852 [00:01<00:01, 633.90it/s]"
     ]
    },
    {
     "name": "stdout",
     "output_type": "stream",
     "text": [
      "Removing game:  Time's Up!   2020-05-12 00:00:00\n",
      "Adding new game:  Time's Up!   2020-05-14 00:00:00\n",
      "Removing game:  Exploding Kittens   2020-06-09 00:00:00\n",
      "Adding new game:  Cuba   2020-06-12 00:00:00\n"
     ]
    },
    {
     "name": "stderr",
     "output_type": "stream",
     "text": [
      " 49%|████▊     | 899/1852 [00:01<00:01, 527.19it/s]"
     ]
    },
    {
     "name": "stdout",
     "output_type": "stream",
     "text": [
      "Removing game:  Small World Underground   2020-09-10 00:00:00\n",
      "Adding new game:  Cloudspire   2020-09-11 00:00:00\n"
     ]
    },
    {
     "name": "stderr",
     "output_type": "stream",
     "text": [
      " 63%|██████▎   | 1173/1852 [00:02<00:01, 467.90it/s]"
     ]
    },
    {
     "name": "stdout",
     "output_type": "stream",
     "text": [
      "Removing game:  King of Tokyo: Dark Edition   2021-05-28 00:00:00\n",
      "Adding new game:  Viticulture   2021-05-31 00:00:00\n",
      "Removing game:  Libertalia: Winds of Galecrest   2021-06-10 00:00:00\n",
      "Adding new game:  Colt Express   2021-06-14 00:00:00\n"
     ]
    },
    {
     "name": "stderr",
     "output_type": "stream",
     "text": [
      " 76%|███████▌  | 1407/1852 [00:02<00:00, 579.44it/s]"
     ]
    },
    {
     "name": "stdout",
     "output_type": "stream",
     "text": [
      "Removing game:  Cat in the Box: Deluxe Edition   2021-12-13 00:00:00\n",
      "Adding new game:  Azul: Stained Glass of Sintra   2021-12-15 00:00:00\n",
      "Removing game:  UNO   2021-12-13 00:00:00\n",
      "Adding new game:  DVONN   2021-12-14 00:00:00\n"
     ]
    },
    {
     "name": "stderr",
     "output_type": "stream",
     "text": [
      " 82%|████████▏ | 1526/1852 [00:03<00:00, 567.19it/s]"
     ]
    },
    {
     "name": "stdout",
     "output_type": "stream",
     "text": [
      "Removing game:  Lost Cities   2022-05-10 00:00:00\n",
      "Adding new game:  Charterstone   2022-05-13 00:00:00\n"
     ]
    },
    {
     "name": "stderr",
     "output_type": "stream",
     "text": [
      " 92%|█████████▏| 1695/1852 [00:03<00:00, 486.80it/s]"
     ]
    },
    {
     "name": "stdout",
     "output_type": "stream",
     "text": [
      "Removing game:  The Resistance: Avalon   2022-11-07 00:00:00\n",
      "Adding new game:  Fantasy Realms   2022-11-10 00:00:00\n",
      "Removing game:  Whitehall Mystery   2022-11-17 00:00:00\n",
      "Adding new game:  Palm Island   2022-11-19 00:00:00\n",
      "Removing game:  Dixit   2022-12-23 00:00:00\n",
      "Adding new game:  War Chest   2022-12-24 00:00:00\n"
     ]
    },
    {
     "name": "stderr",
     "output_type": "stream",
     "text": [
      " 99%|█████████▉| 1842/1852 [00:03<00:00, 418.04it/s]"
     ]
    },
    {
     "name": "stdout",
     "output_type": "stream",
     "text": [
      "Removing game:  Kingdom Builder   2023-04-03 00:00:00\n",
      "Adding new game:  Ticket to Ride: Rails & Sails   2023-04-05 00:00:00\n",
      "Removing game:  Ticket to Ride: Rails & Sails   2023-04-06 00:00:00\n",
      "Adding new game:  Underwater Cities   2023-04-07 00:00:00\n",
      "Removing game:  Skull King   2023-05-09 00:00:00\n",
      "Adding new game:  Roll Player   2023-05-12 00:00:00\n"
     ]
    },
    {
     "name": "stderr",
     "output_type": "stream",
     "text": [
      "100%|██████████| 1852/1852 [00:03<00:00, 471.70it/s]\n"
     ]
    }
   ],
   "source": [
    "for t in tqdm(range(1, (shop_end_date - shop_start_date).days)):\n",
    "    env.run(until=t)"
   ]
  },
  {
   "cell_type": "code",
   "execution_count": 44,
   "metadata": {},
   "outputs": [
    {
     "data": {
      "text/plain": [
       "[(<GamesToRent: 19>,\n",
       "  datetime.datetime(2018, 6, 18, 0, 0),\n",
       "  datetime.datetime(2018, 6, 25, 0, 0)),\n",
       " (<GamesToRent: 76>,\n",
       "  datetime.datetime(2018, 6, 26, 0, 0),\n",
       "  datetime.datetime(2018, 6, 30, 0, 0)),\n",
       " (<GamesToRent: 105>,\n",
       "  datetime.datetime(2018, 7, 9, 0, 0),\n",
       "  datetime.datetime(2018, 7, 13, 0, 0)),\n",
       " (<GamesToRent: 42>,\n",
       "  datetime.datetime(2018, 7, 31, 0, 0),\n",
       "  datetime.datetime(2018, 8, 6, 0, 0))]"
      ]
     },
     "execution_count": 44,
     "metadata": {},
     "output_type": "execute_result"
    }
   ],
   "source": [
    "sim_customers[1].rented_games_history"
   ]
  },
  {
   "cell_type": "code",
   "execution_count": 45,
   "metadata": {},
   "outputs": [
    {
     "data": {
      "text/plain": [
       "datetime.datetime(2018, 11, 28, 0, 0)"
      ]
     },
     "execution_count": 45,
     "metadata": {},
     "output_type": "execute_result"
    }
   ],
   "source": [
    "game_list_container.removed_games[0].game_data.date_of_delete"
   ]
  },
  {
   "cell_type": "code",
   "execution_count": 46,
   "metadata": {},
   "outputs": [
    {
     "name": "stdout",
     "output_type": "stream",
     "text": [
      "20\n",
      "21\n"
     ]
    }
   ],
   "source": [
    "# Count total of new games (without id)\n",
    "new_games = 0\n",
    "for game in game_list_container.game_list:\n",
    "    if game.game_data.id is None:\n",
    "        new_games += 1\n",
    "print(new_games)\n",
    "print(len(game_list_container.removed_games))"
   ]
  },
  {
   "cell_type": "code",
   "execution_count": 47,
   "metadata": {},
   "outputs": [
    {
     "name": "stdout",
     "output_type": "stream",
     "text": [
      "2594\n"
     ]
    }
   ],
   "source": [
    "# Print number of rentals\n",
    "rentals = 0\n",
    "for customer in sim_customers:\n",
    "    rentals += len(customer.rented_games_history)\n",
    "print(rentals)"
   ]
  },
  {
   "cell_type": "code",
   "execution_count": 48,
   "metadata": {},
   "outputs": [],
   "source": [
    "# Update database\n",
    "for game in game_list_container.removed_games:\n",
    "    game.game_data.save()\n",
    "\n",
    "for game in game_list_container.game_list:\n",
    "    game.game_data.save()"
   ]
  },
  {
   "cell_type": "code",
   "execution_count": 49,
   "metadata": {},
   "outputs": [],
   "source": [
    "additional_payments = orm.AdditionalPayment.select()"
   ]
  },
  {
   "cell_type": "code",
   "execution_count": 50,
   "metadata": {},
   "outputs": [
    {
     "data": {
      "text/plain": [
       "0.7"
      ]
     },
     "execution_count": 50,
     "metadata": {},
     "output_type": "execute_result"
    }
   ],
   "source": [
    "additional_payments[0].payment_percent + 0.7"
   ]
  },
  {
   "cell_type": "code",
   "execution_count": 51,
   "metadata": {},
   "outputs": [],
   "source": [
    "def get_correct_additional_payment(days):\n",
    "    for additional_payment in additional_payments:\n",
    "        if days >= additional_payment.days_paid_time_min and days < additional_payment.days_paid_time_max:\n",
    "            return additional_payment"
   ]
  },
  {
   "cell_type": "code",
   "execution_count": 52,
   "metadata": {},
   "outputs": [],
   "source": [
    "rental_history = []\n",
    "for customer in sim_customers:\n",
    "    for game, rent_date, return_date in customer.rented_games_history:\n",
    "        rented_for_days = int((return_date - rent_date).days)\n",
    "        if np.random.random() < 0.1:\n",
    "            ap = get_correct_additional_payment(1)\n",
    "        else:\n",
    "            ap = get_correct_additional_payment(rented_for_days)\n",
    "\n",
    "        rent_date = rent_date.strftime(\"%Y-%m-%d\") + \" \" + str(np.random.randint(10, 17)) + \":\" + str(np.random.randint(0, 60)) + \":\" + str(np.random.randint(0, 60))\n",
    "        return_date = return_date.strftime(\"%Y-%m-%d\") + \" \" + str(np.random.randint(10, 17)) + \":\" + str(np.random.randint(0, 60)) + \":\" + str(np.random.randint(0, 60))\n",
    "        \n",
    "        \n",
    "        \n",
    "        rental_history.append({\n",
    "            \"customer_id\": customer.customer_data.id,\n",
    "            \"game_id\": game.id,\n",
    "            \"rental_date\": rent_date,\n",
    "            \"return_date\": return_date,\n",
    "            \"additional_payment_id\": ap.id,\n",
    "            # \"employee_id\"\n",
    "        })"
   ]
  },
  {
   "cell_type": "code",
   "execution_count": 53,
   "metadata": {},
   "outputs": [],
   "source": [
    "# Sort rental by rental_date\n",
    "rental_history = sorted(rental_history, key=lambda x: x[\"rental_date\"])"
   ]
  },
  {
   "cell_type": "code",
   "execution_count": 54,
   "metadata": {},
   "outputs": [],
   "source": [
    "# Get sales data\n",
    "sales = orm.Sales.select()"
   ]
  },
  {
   "cell_type": "code",
   "execution_count": 55,
   "metadata": {},
   "outputs": [
    {
     "data": {
      "text/plain": [
       "datetime.datetime(2018, 6, 1, 10, 12, 53)"
      ]
     },
     "execution_count": 55,
     "metadata": {},
     "output_type": "execute_result"
    }
   ],
   "source": [
    "sales[0].date"
   ]
  },
  {
   "cell_type": "code",
   "execution_count": 56,
   "metadata": {},
   "outputs": [],
   "source": [
    "employees_per_day = {}\n",
    "for sale in sales:\n",
    "    date = sale.date.strftime(\"%Y-%m-%d\")\n",
    "    if date not in employees_per_day:\n",
    "        employees_per_day[date] = set()\n",
    "    employees_per_day[date].add(sale.employee_id)\n",
    "\n",
    "# Recast each set to list\n",
    "for key in employees_per_day:\n",
    "    employees_per_day[key] = list(employees_per_day[key])"
   ]
  },
  {
   "cell_type": "code",
   "execution_count": 57,
   "metadata": {},
   "outputs": [],
   "source": [
    "employees = orm.Employees.select()"
   ]
  },
  {
   "cell_type": "code",
   "execution_count": 58,
   "metadata": {},
   "outputs": [],
   "source": [
    "# Go for each day from shop start date to shop end date\n",
    "current_date = shop_start_date\n",
    "while current_date <= shop_end_date:\n",
    "    date_as_str = current_date.strftime(\"%Y-%m-%d\")\n",
    "    if date_as_str not in employees_per_day:\n",
    "        employees_per_day[date_as_str] = []\n",
    "    # Check if there are 2 employees on current day\n",
    "    if len(employees_per_day[date_as_str]) == 4:\n",
    "        current_date += datetime.timedelta(days=1)\n",
    "        continue\n",
    "    # Add random emploees so it will be 4\n",
    "    while len(employees_per_day[date_as_str]) < 4:\n",
    "        random_employee = np.random.choice(employees)\n",
    "        if random_employee.id not in employees_per_day[date_as_str]:\n",
    "            employees_per_day[date_as_str].append(random_employee)\n",
    "    current_date += datetime.timedelta(days=1)"
   ]
  },
  {
   "cell_type": "code",
   "execution_count": 59,
   "metadata": {},
   "outputs": [],
   "source": [
    "curr_date = None\n",
    "for rh in rental_history:\n",
    "    ret_date = rh[\"return_date\"].split(\" \")[0]\n",
    "    empl = np.random.choice(employees_per_day[ret_date])\n",
    "    rh[\"return_employee_id\"] = empl.id\n",
    "    borrow_date = rh[\"rental_date\"].split(\" \")[0]\n",
    "    empl = np.random.choice(employees_per_day[borrow_date])\n",
    "    rh[\"employee_id\"] = empl.id"
   ]
  },
  {
   "cell_type": "code",
   "execution_count": 60,
   "metadata": {},
   "outputs": [
    {
     "data": {
      "text/plain": [
       "0"
      ]
     },
     "execution_count": 60,
     "metadata": {},
     "output_type": "execute_result"
    }
   ],
   "source": [
    "orm.Rental.delete().execute()"
   ]
  },
  {
   "cell_type": "code",
   "execution_count": 61,
   "metadata": {},
   "outputs": [
    {
     "data": {
      "text/plain": [
       "<peewee.ModelTupleCursorWrapper at 0x1f9d6a4bf70>"
      ]
     },
     "execution_count": 61,
     "metadata": {},
     "output_type": "execute_result"
    }
   ],
   "source": [
    "rental_history = sorted(rental_history, key=lambda x: x[\"rental_date\"])\n",
    "# add to db\n",
    "orm.Rental.insert_many(rental_history).execute()"
   ]
  },
  {
   "attachments": {},
   "cell_type": "markdown",
   "metadata": {},
   "source": [
    "## Rental with no return"
   ]
  },
  {
   "cell_type": "code",
   "execution_count": 62,
   "metadata": {},
   "outputs": [
    {
     "data": {
      "text/plain": [
       "0"
      ]
     },
     "execution_count": 62,
     "metadata": {},
     "output_type": "execute_result"
    }
   ],
   "source": [
    "games_to_rent = orm.GamesToRent.select().where(orm.GamesToRent.rented == True)\n",
    "len(games_to_rent)"
   ]
  },
  {
   "cell_type": "code",
   "execution_count": 96,
   "metadata": {},
   "outputs": [],
   "source": [
    "# Generate rentals in last week that were not returned\n",
    "\n",
    "customers = orm.Customers.select()\n",
    "\n",
    "no_rentals = 24\n",
    "\n",
    "not_returned = []\n",
    "\n",
    "for i in range(no_rentals):\n",
    "    # Get random customer\n",
    "    customer = np.random.choice(customers)\n",
    "    # Get random game\n",
    "    games_to_rent = orm.GamesToRent.select().where(orm.GamesToRent.rented == False)\n",
    "    game = np.random.choice(games_to_rent)\n",
    "    # Get random date\n",
    "    rent_date = shop_end_date - datetime.timedelta(days=np.random.randint(1, 7))\n",
    "    # Cast rent_date to datetime\n",
    "    rent_date = datetime.datetime.strptime(rent_date.strftime(\"%Y-%m-%d\") + \" \" + str(np.random.randint(10, 17)) + \":\" + str(np.random.randint(0, 60)) + \":\" + str(np.random.randint(0, 60)), \"%Y-%m-%d %H:%M:%S\")\n",
    "    # Check is Sunday\n",
    "    if rent_date.weekday() == 6:\n",
    "        rent_date -= datetime.timedelta(days=1)\n",
    "\n",
    "    # game.rented = True\n",
    "    # game.save()\n",
    "    not_returned.append({\n",
    "        \"additional_payment_id\": None,\n",
    "        \"return_date\": None,\n",
    "        \"rental_date\": rent_date,\n",
    "        \"customer_id\": customer.id,\n",
    "        \"return_employee_id\": None,\n",
    "        \"employee_id\": np.random.choice(employees_per_day[rent_date.strftime(\"%Y-%m-%d\")]).id,\n",
    "    })"
   ]
  },
  {
   "cell_type": "code",
   "execution_count": 97,
   "metadata": {},
   "outputs": [
    {
     "data": {
      "text/plain": [
       "<peewee.ModelTupleCursorWrapper at 0x1f9da2d2610>"
      ]
     },
     "execution_count": 97,
     "metadata": {},
     "output_type": "execute_result"
    }
   ],
   "source": [
    "orm.Rental.insert_many(not_returned).execute()"
   ]
  },
  {
   "attachments": {},
   "cell_type": "markdown",
   "metadata": {},
   "source": [
    "## Registration"
   ]
  },
  {
   "cell_type": "code",
   "execution_count": 64,
   "metadata": {},
   "outputs": [
    {
     "data": {
      "text/plain": [
       "('Gary', 'Smith')"
      ]
     },
     "execution_count": 64,
     "metadata": {},
     "output_type": "execute_result"
    }
   ],
   "source": [
    "import pandas as pd\n",
    "top_first_names = pd.read_csv(\"./data/new-top-firstNames.csv\", sep=\",\")\n",
    "top_last_names = pd.read_csv(\"./data/new-top-surnames.csv\", sep=\",\")\n",
    "top_first_names[\"newPerct2013\"] = top_first_names[\"newPerct2013\"] / top_first_names[\"newPerct2013\"].sum()\n",
    "top_last_names[\"newPerct2013\"] = top_last_names[\"perct2013\"] / top_last_names[\"perct2013\"].sum()\n",
    "\n",
    "def get_random_name():\n",
    "    first_name = np.random.choice(top_first_names[\"name\"], p=top_first_names[\"newPerct2013\"])\n",
    "    last_name = np.random.choice(top_last_names[\"name\"], p=top_last_names[\"newPerct2013\"])\n",
    "    # last name is uppercased - fix that\n",
    "    last_name = last_name[0] + last_name[1:].lower()\n",
    "    return first_name, last_name\n",
    "get_random_name()"
   ]
  },
  {
   "cell_type": "code",
   "execution_count": 65,
   "metadata": {},
   "outputs": [],
   "source": [
    "phone_numbers = set(orm.Customers.select(orm.Customers.phone) + orm.Employees.select(orm.Employees.phone))"
   ]
  },
  {
   "cell_type": "code",
   "execution_count": 66,
   "metadata": {},
   "outputs": [],
   "source": [
    "no_registrations = 142\n",
    "registrations = []\n",
    "for _ in range(no_registrations):\n",
    "    first_name, last_name = get_random_name()\n",
    "    phone = \"\".join([str(np.random.randint(0, 10)) for _ in range(9)])\n",
    "    if phone[0] == \"0\":\n",
    "        phone = str(np.random.randint(1, 10)) + phone[1:]\n",
    "    while phone in phone_numbers:\n",
    "        phone = \"\".join([str(np.random.randint(0, 10)) for _ in range(9)])\n",
    "        if phone[0] == \"0\":\n",
    "            phone = str(np.random.randint(1, 10)) + phone[1:]\n",
    "    phone_numbers.add(phone)\n",
    "\n",
    "    email_variant = np.random.choice([\"first,last\", \"first,dot,last\", \"first,numbers\", \n",
    "                                      \"last,first\", \"last,numbers\", \"first,last,numbers\", \n",
    "                                      \"last,first,numbers\", \"last,dot,first\", \"first,dot,last,numbers\", \"last,dot,first,numbers\"\n",
    "                                      ])\n",
    "\n",
    "    email = \"\"\n",
    "    for email_part in email_variant.split(\",\"):\n",
    "        if email_part == \"first\":\n",
    "            email += first_name\n",
    "        elif email_part == \"last\":\n",
    "            email += last_name\n",
    "        elif email_part == \"numbers\":\n",
    "            email += \"\".join([str(np.random.randint(0, 10)) for _ in range(np.random.randint(1, 4))])\n",
    "        elif email_part == \"dot\":\n",
    "            email += \".\"\n",
    "\n",
    "    # Add email provider from gmail outlook etc\n",
    "    email += \"@\" + np.random.choice([\"gmail\", \"outlook\", \"yahoo\", \"protonmail\", \"tutanota\"]) + \".com\"\n",
    "\n",
    "    registrations.append({\n",
    "        \"first_name\": first_name,\n",
    "        \"last_name\": last_name,\n",
    "        \"phone\": phone,\n",
    "        \"email\": email\n",
    "    })"
   ]
  },
  {
   "cell_type": "code",
   "execution_count": 67,
   "metadata": {},
   "outputs": [],
   "source": [
    "# Group orm.rental by customer_id\n",
    "rental_history = orm.Rental.select()\n",
    "rental_per_customer = {}\n",
    "for rental in rental_history:\n",
    "    if rental.customer_id not in rental_per_customer:\n",
    "        rental_per_customer[rental.customer_id] = []\n",
    "    rental_per_customer[rental.customer_id].append(rental)"
   ]
  },
  {
   "cell_type": "code",
   "execution_count": 68,
   "metadata": {},
   "outputs": [],
   "source": [
    "# Get customers with more than 3 rentals\n",
    "customers_with_more_than_3_rentals = []\n",
    "for key in rental_per_customer:\n",
    "    if len(rental_per_customer[key]) >= 3:\n",
    "        customers_with_more_than_3_rentals.append(key)"
   ]
  },
  {
   "cell_type": "code",
   "execution_count": 69,
   "metadata": {},
   "outputs": [
    {
     "data": {
      "text/plain": [
       "317"
      ]
     },
     "execution_count": 69,
     "metadata": {},
     "output_type": "execute_result"
    }
   ],
   "source": [
    "len(customers_with_more_than_3_rentals)"
   ]
  },
  {
   "cell_type": "code",
   "execution_count": 70,
   "metadata": {},
   "outputs": [],
   "source": [
    "# Get DB objects of customers with more than 3 rentals\n",
    "customers_with_more_than_3_rentals = orm.Customers.select().where(orm.Customers.id << customers_with_more_than_3_rentals)\n"
   ]
  },
  {
   "cell_type": "code",
   "execution_count": 71,
   "metadata": {},
   "outputs": [
    {
     "data": {
      "text/plain": [
       "<Customers: 2>"
      ]
     },
     "execution_count": 71,
     "metadata": {},
     "output_type": "execute_result"
    }
   ],
   "source": [
    "customers_with_more_than_3_rentals[1]"
   ]
  },
  {
   "cell_type": "code",
   "execution_count": 72,
   "metadata": {},
   "outputs": [],
   "source": [
    "for customer in customers_with_more_than_3_rentals:\n",
    "    registrations.append({\n",
    "        \"first_name\": customer.first_name,\n",
    "        \"last_name\": customer.last_name,\n",
    "        \"phone\": customer.phone,\n",
    "        \"email\": customer.email\n",
    "    })"
   ]
  },
  {
   "cell_type": "code",
   "execution_count": 73,
   "metadata": {},
   "outputs": [
    {
     "data": {
      "text/plain": [
       "<peewee.ModelTupleCursorWrapper at 0x1f9d8b53b80>"
      ]
     },
     "execution_count": 73,
     "metadata": {},
     "output_type": "execute_result"
    }
   ],
   "source": [
    "orm.Registration.insert_many(registrations).execute()"
   ]
  },
  {
   "attachments": {},
   "cell_type": "markdown",
   "metadata": {},
   "source": [
    "## Tournaments"
   ]
  },
  {
   "cell_type": "code",
   "execution_count": 74,
   "metadata": {},
   "outputs": [],
   "source": [
    "tournamets_blueprint = [\n",
    "    {\n",
    "        \"name\": \"say UNO!\",\n",
    "        \"date\": None,\n",
    "        \"game_id\": orm.Games.select().where(orm.Games.name.contains(\"UNO\"))[0].id,\n",
    "        \"entry_fee\": 0,\n",
    "        \"player_type\": \"solo\",\n",
    "        \"number_of_participants\": None,\n",
    "        \"description\": \"the most points in 15 games, random opponents\"\n",
    "    },\n",
    "    {\n",
    "        \"name\": \"HAPPY LITTLE DINOSAURS survival\",\n",
    "        \"date\": None,\n",
    "        \"game_id\": orm.Games.select().where(orm.Games.name.contains(\"HAPPY LITTLE DINOSAURS\"))[0].id,\n",
    "        \"entry_fee\": 0,\n",
    "        \"player_type\": \"solo\",\n",
    "        \"number_of_participants\": None,\n",
    "        \"description\": \"the most points in 15 games, random opponents\"\n",
    "    },\n",
    "    {\n",
    "        \"name\": \"sheREEF of the REEF\",\n",
    "        \"date\": None,\n",
    "        \"game_id\": orm.Games.select().where(orm.Games.name.contains(\"REEF\"))[0].id,\n",
    "        \"entry_fee\": 0,\n",
    "        \"player_type\": \"solo\",\n",
    "        \"number_of_participants\": None,\n",
    "        \"description\": \"the most points in 15 games, random opponents\"\n",
    "    },\n",
    "    {\n",
    "        \"name\": \"tonne of CARCASSONNE\",\n",
    "        \"date\": None,\n",
    "        \"game_id\": orm.Games.select().where(orm.Games.name.contains(\"CARCASSONNE\"))[0].id,\n",
    "        \"entry_fee\": 0,\n",
    "        \"player_type\": \"solo\",\n",
    "        \"number_of_participants\": None,\n",
    "        \"description\": \"the most points in 15 games, random opponents\"\n",
    "    },\n",
    "    {\n",
    "        \"name\": \"DOOBLE game\",\n",
    "        \"date\": None,\n",
    "        \"game_id\": orm.Games.select().where(orm.Games.name.contains(\"SPOT IT\"))[0].id,\n",
    "        \"entry_fee\": 0,\n",
    "        \"player_type\": \"solo\",\n",
    "        \"number_of_participants\": None,\n",
    "        \"description\": \"the most points in 15 games, random opponents\"\n",
    "    },\n",
    "    {\n",
    "        \"name\": \"SET of rivarly\",\n",
    "        \"date\": None,\n",
    "        \"game_id\": orm.Games.select().where(orm.Games.name.contains(\"SET\"))[0].id,\n",
    "        \"entry_fee\": 0,\n",
    "        \"player_type\": \"solo\",\n",
    "        \"number_of_participants\": None,\n",
    "        \"description\": \"the most points in 15 games, random opponents\"\n",
    "    },\n",
    "    {\n",
    "        \"name\": \"artful board of AZUL\",\n",
    "        \"date\": None,\n",
    "        \"game_id\": orm.Games.select().where(orm.Games.name.contains(\"AZUL\"))[0].id,\n",
    "        \"entry_fee\": 0,\n",
    "        \"player_type\": \"solo\",\n",
    "        \"number_of_participants\": None,\n",
    "        \"description\": \"the most points in 15 games, random opponents\"\n",
    "    },\n",
    "    {\n",
    "        \"name\": \"MAGIC MAZE runaways\",\n",
    "        \"date\": None,\n",
    "        \"game_id\": orm.Games.select().where(orm.Games.name.contains(\"MAGIC MAZE\"))[0].id,\n",
    "        \"entry_fee\": 0,\n",
    "        \"player_type\": \"team\",\n",
    "        \"number_of_participants\": None,\n",
    "        \"description\": \"the best time in 3 games\"\n",
    "    },\n",
    "]"
   ]
  },
  {
   "cell_type": "code",
   "execution_count": 75,
   "metadata": {},
   "outputs": [],
   "source": [
    "shop_start_date = datetime.datetime(2018, 6, 1)\n",
    "covid_start_date = datetime.datetime(2020, 3, 12)\n",
    "covid_end_date = datetime.datetime(2020, 6, 1)\n",
    "covid_start_date2 = datetime.datetime(2020, 11, 1)\n",
    "covid_end_date2 = datetime.datetime(2021, 3, 1)\n",
    "shop_end_date = datetime.datetime(2023, 6, 28)"
   ]
  },
  {
   "cell_type": "code",
   "execution_count": 76,
   "metadata": {},
   "outputs": [
    {
     "data": {
      "text/plain": [
       "(datetime.datetime(2018, 6, 1, 0, 0),\n",
       " datetime.datetime(2020, 3, 12, 0, 0),\n",
       " datetime.datetime(2020, 6, 1, 0, 0),\n",
       " datetime.datetime(2023, 6, 28, 0, 0))"
      ]
     },
     "execution_count": 76,
     "metadata": {},
     "output_type": "execute_result"
    }
   ],
   "source": [
    "shop_start_date, covid_start_date, covid_end_date, shop_end_date"
   ]
  },
  {
   "cell_type": "code",
   "execution_count": 77,
   "metadata": {},
   "outputs": [],
   "source": [
    "# Iterate over days from shop start date to shop end date\n",
    "current_date = deepcopy(shop_start_date)\n",
    "days_till_next_tour = np.random.randint(9, 17)\n",
    "while current_date <= shop_end_date:\n",
    "    # if date is in covid period continue\n",
    "    if covid_start_date <= current_date <= covid_end_date:\n",
    "        current_date += datetime.timedelta(days=1)\n",
    "        continue\n",
    "    if covid_start_date2 <= current_date <= covid_end_date2:\n",
    "        current_date += datetime.timedelta(days=1)\n",
    "        continue\n",
    "    if days_till_next_tour == 0:\n",
    "        # Add new tournament\n",
    "        tour = np.random.choice(tournamets_blueprint)\n",
    "        new_tour = orm.Competitions(**{**tour, \"date\": current_date, \"number_of_participants\": np.random.randint(20, 50)})\n",
    "        new_tour.save()\n",
    "        # Set days till next tournament\n",
    "        days_till_next_tour = np.random.randint(9, 17) + 1\n",
    "    days_till_next_tour -= 1\n",
    "    current_date += datetime.timedelta(days=1)\n"
   ]
  },
  {
   "cell_type": "code",
   "execution_count": 78,
   "metadata": {},
   "outputs": [],
   "source": [
    "from peewee import fn"
   ]
  },
  {
   "cell_type": "code",
   "execution_count": 79,
   "metadata": {},
   "outputs": [],
   "source": [
    "prizes_kind = ['small_board_game', 'medium_board_game', 'big_board_game', 'giftcard', 'logic_puzzle']\n",
    "participants = []\n",
    "# Generate prizes for turnaments\n",
    "tournaments = orm.Competitions.select()\n",
    "for tour in tournaments:\n",
    "    # Sample random number of players\n",
    "    no_players = tour.number_of_participants\n",
    "    \n",
    "    # Generate unique random number of points from 0 to 100\n",
    "    points = np.random.choice(np.arange(0, 200), size=no_players, replace=False)\n",
    "    # Sort points from biggest to smallest\n",
    "    points.sort()\n",
    "    points = points[::-1]\n",
    "\n",
    "    # Get no_players from registrations\n",
    "    players = orm.Registration.select().order_by(fn.Random()).limit(no_players)\n",
    "\n",
    "    for i, player in enumerate(players):\n",
    "        prize_id = None\n",
    "        if i < 3:\n",
    "            # Generate random prize\n",
    "            prize = orm.Prizes(**{\"kind\": np.random.choice(prizes_kind), \"given\": True})\n",
    "            prize.save()\n",
    "            prize_id = prize.id\n",
    "\n",
    "            if np.random.rand() < 0.5:\n",
    "                # Add extra prize \n",
    "                prize = orm.Prizes(**{\"kind\": np.random.choice(prizes_kind), \"given\": False}).save()\n",
    "        present = True\n",
    "\n",
    "        if np.random.rand() < 0.5 and i >= no_players - 4:\n",
    "            present = False\n",
    "\n",
    "        if i > 0 and not participants[-1][\"present\"]:\n",
    "            present = False\n",
    "        participants.append({\n",
    "            \"competition_id\": tour.id,\n",
    "            \"registration_id\": player.id,\n",
    "            \"score\": points[i] if present else 0,\n",
    "            \"ranking\": i + 1,\n",
    "            \"prize_id\": prize_id,\n",
    "            \"present\": present\n",
    "        })"
   ]
  },
  {
   "cell_type": "code",
   "execution_count": 80,
   "metadata": {},
   "outputs": [
    {
     "data": {
      "text/plain": [
       "<peewee.ModelTupleCursorWrapper at 0x1f9d8b78b50>"
      ]
     },
     "execution_count": 80,
     "metadata": {},
     "output_type": "execute_result"
    }
   ],
   "source": [
    "orm.Participants.insert_many(participants).execute()"
   ]
  },
  {
   "attachments": {},
   "cell_type": "markdown",
   "metadata": {},
   "source": [
    "## Future competitions"
   ]
  },
  {
   "cell_type": "code",
   "execution_count": 81,
   "metadata": {},
   "outputs": [],
   "source": [
    "no_comp = 3\n",
    "\n",
    "prev_diff = 0\n",
    "for _ in range(no_comp):\n",
    "    new_tour_date = shop_end_date + datetime.timedelta(days=prev_diff + np.random.randint(9, 17))\n",
    "    if new_tour_date.weekday() == 6:\n",
    "        new_tour_date += datetime.timedelta(days=-1)\n",
    "    blueprint = np.random.choice(tournamets_blueprint)\n",
    "    new_tour = orm.Competitions(**{\n",
    "        \"name\": blueprint[\"name\"],\n",
    "        \"entry_fee\": 0.0,\n",
    "        \"number_of_participants\": 0,\n",
    "        \"date\": new_tour_date,\n",
    "        \"description\": blueprint[\"description\"],\n",
    "        \"game_id\": blueprint[\"game_id\"],\n",
    "        }\n",
    "    )\n",
    "    new_tour.save()\n",
    "    prev_diff = (new_tour_date - shop_end_date).days\n"
   ]
  },
  {
   "attachments": {},
   "cell_type": "markdown",
   "metadata": {},
   "source": [
    "## Meetings"
   ]
  },
  {
   "cell_type": "code",
   "execution_count": 82,
   "metadata": {},
   "outputs": [],
   "source": [
    "current_date = deepcopy(shop_start_date)\n",
    "days_till_next_tour = np.random.randint(9, 17)\n",
    "end_date = datetime.datetime(2023, 6, 28) + datetime.timedelta(days=90)\n",
    "meetings = []\n",
    "while current_date <= shop_end_date:\n",
    "    if covid_start_date <= current_date <= covid_end_date:\n",
    "        current_date += datetime.timedelta(days=1)\n",
    "        continue\n",
    "    if covid_start_date2 <= current_date <= covid_end_date2:\n",
    "        current_date += datetime.timedelta(days=1)\n",
    "        continue\n",
    "    if days_till_next_tour == 0:\n",
    "        # Add new tournament\n",
    "        meetings.append({\n",
    "            \"date\": current_date,\n",
    "            \"name\": np.random.choice([\"News in board games\", \"Board games creators meeting\", \"Tournaments discussion session\"]),\n",
    "            \"fee\": round(np.random.uniform(0, 5), 2),\n",
    "            \"online\": np.random.rand() < 0.5,\n",
    "        })\n",
    "        # Set days till next tournament\n",
    "        days_till_next_tour = np.random.randint(9, 17) + 1\n",
    "    days_till_next_tour -= 1\n",
    "    current_date += datetime.timedelta(days=1)\n"
   ]
  },
  {
   "cell_type": "code",
   "execution_count": 83,
   "metadata": {},
   "outputs": [
    {
     "data": {
      "text/plain": [
       "<peewee.ModelTupleCursorWrapper at 0x1f9d5b902b0>"
      ]
     },
     "execution_count": 83,
     "metadata": {},
     "output_type": "execute_result"
    }
   ],
   "source": [
    "orm.Meetings.insert_many(meetings).execute()"
   ]
  },
  {
   "cell_type": "code",
   "execution_count": 84,
   "metadata": {},
   "outputs": [],
   "source": [
    "for meeting in orm.Meetings.select():\n",
    "    meeting.date = meeting.date + datetime.timedelta(hours=int(np.random.randint(14, 18)), minutes=int(np.random.choice([0, 30])))\n",
    "    meeting.save()"
   ]
  }
 ],
 "metadata": {
  "kernelspec": {
   "display_name": "venv",
   "language": "python",
   "name": "python3"
  },
  "language_info": {
   "codemirror_mode": {
    "name": "ipython",
    "version": 3
   },
   "file_extension": ".py",
   "mimetype": "text/x-python",
   "name": "python",
   "nbconvert_exporter": "python",
   "pygments_lexer": "ipython3",
   "version": "3.9.5"
  },
  "orig_nbformat": 4
 },
 "nbformat": 4,
 "nbformat_minor": 2
}
