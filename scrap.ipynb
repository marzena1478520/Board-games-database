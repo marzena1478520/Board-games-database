{
 "cells": [
  {
   "cell_type": "code",
   "execution_count": 24,
   "metadata": {},
   "outputs": [],
   "source": [
    "import requests\n",
    "import pandas as pd\n",
    "import xmltodict\n",
    "import time\n",
    "from tqdm import tqdm"
   ]
  },
  {
   "cell_type": "code",
   "execution_count": 25,
   "metadata": {},
   "outputs": [],
   "source": [
    "ROOT_PATH = \"https://boardgamegeek.com/xmlapi2/\""
   ]
  },
  {
   "cell_type": "code",
   "execution_count": 26,
   "metadata": {},
   "outputs": [
    {
     "data": {
      "text/html": [
       "<div>\n",
       "<style scoped>\n",
       "    .dataframe tbody tr th:only-of-type {\n",
       "        vertical-align: middle;\n",
       "    }\n",
       "\n",
       "    .dataframe tbody tr th {\n",
       "        vertical-align: top;\n",
       "    }\n",
       "\n",
       "    .dataframe thead th {\n",
       "        text-align: right;\n",
       "    }\n",
       "</style>\n",
       "<table border=\"1\" class=\"dataframe\">\n",
       "  <thead>\n",
       "    <tr style=\"text-align: right;\">\n",
       "      <th></th>\n",
       "      <th>bgg_url</th>\n",
       "    </tr>\n",
       "  </thead>\n",
       "  <tbody>\n",
       "    <tr>\n",
       "      <th>0</th>\n",
       "      <td>https://boardgamegeek.com/boardgame/13/catan</td>\n",
       "    </tr>\n",
       "    <tr>\n",
       "      <th>1</th>\n",
       "      <td>https://boardgamegeek.com/boardgame/162886/spi...</td>\n",
       "    </tr>\n",
       "    <tr>\n",
       "      <th>2</th>\n",
       "      <td>https://boardgamegeek.com/boardgame/248562/mag...</td>\n",
       "    </tr>\n",
       "    <tr>\n",
       "      <th>3</th>\n",
       "      <td>https://boardgamegeek.com/boardgame/285774/mar...</td>\n",
       "    </tr>\n",
       "    <tr>\n",
       "      <th>4</th>\n",
       "      <td>https://boardgamegeek.com/boardgame/167791/ter...</td>\n",
       "    </tr>\n",
       "  </tbody>\n",
       "</table>\n",
       "</div>"
      ],
      "text/plain": [
       "                                             bgg_url\n",
       "0       https://boardgamegeek.com/boardgame/13/catan\n",
       "1  https://boardgamegeek.com/boardgame/162886/spi...\n",
       "2  https://boardgamegeek.com/boardgame/248562/mag...\n",
       "3  https://boardgamegeek.com/boardgame/285774/mar...\n",
       "4  https://boardgamegeek.com/boardgame/167791/ter..."
      ]
     },
     "execution_count": 26,
     "metadata": {},
     "output_type": "execute_result"
    }
   ],
   "source": [
    "# read data_info.xlsx 'games' sheet into dataframe\n",
    "games_df = pd.read_excel(\"data_info.xlsx\", sheet_name=\"games\", header=None, names=[\"bgg_url\"])\n",
    "games_df.head()"
   ]
  },
  {
   "cell_type": "code",
   "execution_count": 27,
   "metadata": {},
   "outputs": [
    {
     "data": {
      "text/html": [
       "<div>\n",
       "<style scoped>\n",
       "    .dataframe tbody tr th:only-of-type {\n",
       "        vertical-align: middle;\n",
       "    }\n",
       "\n",
       "    .dataframe tbody tr th {\n",
       "        vertical-align: top;\n",
       "    }\n",
       "\n",
       "    .dataframe thead th {\n",
       "        text-align: right;\n",
       "    }\n",
       "</style>\n",
       "<table border=\"1\" class=\"dataframe\">\n",
       "  <thead>\n",
       "    <tr style=\"text-align: right;\">\n",
       "      <th></th>\n",
       "      <th>bgg_url</th>\n",
       "      <th>game_id</th>\n",
       "    </tr>\n",
       "  </thead>\n",
       "  <tbody>\n",
       "    <tr>\n",
       "      <th>0</th>\n",
       "      <td>https://boardgamegeek.com/boardgame/13/catan</td>\n",
       "      <td>13</td>\n",
       "    </tr>\n",
       "    <tr>\n",
       "      <th>1</th>\n",
       "      <td>https://boardgamegeek.com/boardgame/162886/spi...</td>\n",
       "      <td>162886</td>\n",
       "    </tr>\n",
       "    <tr>\n",
       "      <th>2</th>\n",
       "      <td>https://boardgamegeek.com/boardgame/248562/mag...</td>\n",
       "      <td>248562</td>\n",
       "    </tr>\n",
       "    <tr>\n",
       "      <th>3</th>\n",
       "      <td>https://boardgamegeek.com/boardgame/285774/mar...</td>\n",
       "      <td>285774</td>\n",
       "    </tr>\n",
       "    <tr>\n",
       "      <th>4</th>\n",
       "      <td>https://boardgamegeek.com/boardgame/167791/ter...</td>\n",
       "      <td>167791</td>\n",
       "    </tr>\n",
       "  </tbody>\n",
       "</table>\n",
       "</div>"
      ],
      "text/plain": [
       "                                             bgg_url game_id\n",
       "0       https://boardgamegeek.com/boardgame/13/catan      13\n",
       "1  https://boardgamegeek.com/boardgame/162886/spi...  162886\n",
       "2  https://boardgamegeek.com/boardgame/248562/mag...  248562\n",
       "3  https://boardgamegeek.com/boardgame/285774/mar...  285774\n",
       "4  https://boardgamegeek.com/boardgame/167791/ter...  167791"
      ]
     },
     "execution_count": 27,
     "metadata": {},
     "output_type": "execute_result"
    }
   ],
   "source": [
    "games_df[\"game_id\"] = games_df[\"bgg_url\"].str.extract(r\"boardgame/(\\d+)/\")\n",
    "games_df.head()"
   ]
  },
  {
   "cell_type": "code",
   "execution_count": 28,
   "metadata": {},
   "outputs": [
    {
     "data": {
      "text/plain": [
       "['13', '162886', '248562', '285774', '167791']"
      ]
     },
     "execution_count": 28,
     "metadata": {},
     "output_type": "execute_result"
    }
   ],
   "source": [
    "# Save ids to list, filter out NaNs\n",
    "game_ids = games_df[\"game_id\"].dropna().tolist()\n",
    "game_ids[:5]"
   ]
  },
  {
   "cell_type": "code",
   "execution_count": 29,
   "metadata": {},
   "outputs": [
    {
     "data": {
      "text/plain": [
       "['287988', '321259', '91072', '315200']"
      ]
     },
     "execution_count": 29,
     "metadata": {},
     "output_type": "execute_result"
    }
   ],
   "source": [
    "# Get bgg_url with NaN as game_id and extract game_id from url it is after boardgameexpansion/\n",
    "expansion_ids = games_df.loc[games_df[\"game_id\"].isna(), \"bgg_url\"].str.extract(r\"boardgameexpansion/(\\d+)/\")[0].tolist()\n",
    "expansion_ids"
   ]
  },
  {
   "cell_type": "code",
   "execution_count": 30,
   "metadata": {},
   "outputs": [],
   "source": [
    "ids_as_str = \",\".join(game_ids)\n",
    "results = requests.get(f\"{ROOT_PATH}thing?id={ids_as_str}\")"
   ]
  },
  {
   "cell_type": "code",
   "execution_count": 31,
   "metadata": {},
   "outputs": [],
   "source": [
    "res_json = xmltodict.parse(results.content)"
   ]
  },
  {
   "cell_type": "code",
   "execution_count": 32,
   "metadata": {},
   "outputs": [
    {
     "data": {
      "text/plain": [
       "234"
      ]
     },
     "execution_count": 32,
     "metadata": {},
     "output_type": "execute_result"
    }
   ],
   "source": [
    "len(res_json[\"items\"][\"item\"])"
   ]
  },
  {
   "cell_type": "code",
   "execution_count": 33,
   "metadata": {},
   "outputs": [
    {
     "name": "stderr",
     "output_type": "stream",
     "text": [
      "100%|██████████| 234/234 [00:00<00:00, 47020.89it/s]\n"
     ]
    }
   ],
   "source": [
    "parsed_game_data = []\n",
    "for game in tqdm(res_json[\"items\"][\"item\"]):\n",
    "    name_state = game[\"name\"]\n",
    "    if isinstance(name_state, list):\n",
    "        name = name_state[0][\"@value\"]\n",
    "    else:\n",
    "        name = name_state[\"@value\"]\n",
    "    parsed_game_data.append(dict(\n",
    "        name=name,\n",
    "        release_year=int(game[\"yearpublished\"][\"@value\"]),\n",
    "        category=[\n",
    "            category[\"@value\"] for category in \n",
    "            game[\"link\"] if category[\"@type\"] == \"boardgamecategory\"],\n",
    "        mechanic=[\n",
    "            mechanic[\"@value\"] for mechanic in\n",
    "            game[\"link\"] if mechanic[\"@type\"] == \"boardgamemechanic\"],\n",
    "        players_min=int(game[\"minplayers\"][\"@value\"]),\n",
    "        players_max=int(game[\"maxplayers\"][\"@value\"]),\n",
    "        playtime_min=int(game[\"minplaytime\"][\"@value\"]),\n",
    "        playtime_max=int(game[\"maxplaytime\"][\"@value\"]),\n",
    "        min_age=int(game[\"minage\"][\"@value\"]),\n",
    "        is_expansion=False\n",
    "    ))"
   ]
  },
  {
   "cell_type": "code",
   "execution_count": 36,
   "metadata": {},
   "outputs": [
    {
     "data": {
      "text/plain": [
       "{'name': 'Mage Knight: Ultimate Edition',\n",
       " 'release_year': 2018,\n",
       " 'category': ['Adventure', 'Exploration', 'Fantasy', 'Fighting'],\n",
       " 'mechanic': ['Card Play Conflict Resolution',\n",
       "  'Cooperative Game',\n",
       "  'Deck, Bag, and Pool Building',\n",
       "  'Dice Rolling',\n",
       "  'Grid Movement',\n",
       "  'Hand Management',\n",
       "  'Modular Board',\n",
       "  'Open Drafting',\n",
       "  'Role Playing',\n",
       "  'Solo / Solitaire Game',\n",
       "  'Tile Placement',\n",
       "  'Variable Player Powers'],\n",
       " 'players_min': 1,\n",
       " 'players_max': 5,\n",
       " 'playtime_min': 150,\n",
       " 'playtime_max': 150,\n",
       " 'min_age': 14,\n",
       " 'is_expansion': False}"
      ]
     },
     "execution_count": 36,
     "metadata": {},
     "output_type": "execute_result"
    }
   ],
   "source": [
    "parsed_game_data[2]"
   ]
  },
  {
   "cell_type": "code",
   "execution_count": 37,
   "metadata": {},
   "outputs": [],
   "source": [
    "import json\n",
    "# Save data to json file\n",
    "with open(\"./data/bgg_data.json\", \"w\") as f:\n",
    "    json.dump(parsed_game_data, f)"
   ]
  }
 ],
 "metadata": {
  "kernelspec": {
   "display_name": "venv",
   "language": "python",
   "name": "python3"
  },
  "language_info": {
   "codemirror_mode": {
    "name": "ipython",
    "version": 3
   },
   "file_extension": ".py",
   "mimetype": "text/x-python",
   "name": "python",
   "nbconvert_exporter": "python",
   "pygments_lexer": "ipython3",
   "version": "3.9.5"
  },
  "orig_nbformat": 4
 },
 "nbformat": 4,
 "nbformat_minor": 2
}
