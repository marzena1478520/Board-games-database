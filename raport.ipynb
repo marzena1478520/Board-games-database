{
 "cells": [
  {
   "attachments": {},
   "cell_type": "markdown",
   "metadata": {},
   "source": [
    "# Wstęp"
   ]
  },
  {
   "attachments": {},
   "cell_type": "markdown",
   "metadata": {},
   "source": [
    "Poniższy raport dotyczy analizy danych dostępnych w bazie sklepu \"Geeks & Dragons\", który posiada w swojej ofercie gry planszowe, prowadzi wypożyczalnię oraz organizuje turnieje.\n",
    "\n",
    "Baza danych została wygenerowana automatycznie przy założeniu wielu uproszczeń, co ma znaczący wpływ na wyniki zawarte w analizie. Wszystkie wnioski wyciągane na podstawie analizy dotyczą wyłącznie bazy danych umieszczonej w plikach/repozytorium i nie muszą być prawdziwe w przypadku ponownego wygenerowania bazy."
   ]
  },
  {
   "attachments": {},
   "cell_type": "markdown",
   "metadata": {},
   "source": [
    "# Wypełnienie bazy"
   ]
  },
  {
   "attachments": {},
   "cell_type": "markdown",
   "metadata": {},
   "source": [
    "Wypełnianie automatyczne bazy danych opierało się na wielu założeniach i funkcjach. Poniżej opisano najciekawsze z elementów generowania danych."
   ]
  },
  {
   "attachments": {},
   "cell_type": "markdown",
   "metadata": {},
   "source": [
    "### Generowanie danych o wypożyczeniach"
   ]
  },
  {
   "attachments": {},
   "cell_type": "markdown",
   "metadata": {},
   "source": [
    "Dane o wypożyczeniach zostały wygenerowane symulacyjne. W trakcie symulacji klienci wypożyczali gry zmieniając ich obecny stan dla innych klientów. Dodatkowo gry mogły się zniszczyć po wypożyczeniu, po czym nie były zdatne do dalszej eksploatacji i w najbliższym czasie dodawane zostały nowe gry. Klienci wracali do sklepu w losowym czasie, a z pewnym prawdopodobieństwem nie wracali do sklepu. "
   ]
  },
  {
   "attachments": {},
   "cell_type": "markdown",
   "metadata": {},
   "source": [
    "### Zczytanie danych o grach"
   ]
  },
  {
   "attachments": {},
   "cell_type": "markdown",
   "metadata": {},
   "source": [
    "Dane o grach zostały pobrane z BGG XML API2 na podstawie wcześniej przygotowanej listy gier. Board Game Geek (BGG) to bardzo popularne forum o grach planszowych, zawierające dużo statystyk i recenzji. Udostępnia ono darmowe API, dzięki któremu można automatycznie pobierać informację o grach. Tak pobrane dane, zostały następnie przekształcone i wrzucone do bazy danych w postaci tabeli *games*."
   ]
  },
  {
   "attachments": {},
   "cell_type": "markdown",
   "metadata": {},
   "source": [
    "### Generowanie danych osobowych"
   ]
  },
  {
   "attachments": {},
   "cell_type": "markdown",
   "metadata": {},
   "source": [
    "Dane osobowe zostały wygenerowane na podstawie najbardziej popularnych imion i nazwisk z Stanów Zjednoczonych. Statystyki te zostały pobrane ze strony: https://github.com/fivethirtyeight/data/tree/master/most-common-name. Dodatkowo zostały wygenerowane unikalne numery telefonu i adresy email dla każdego użytkownika. Adres email mógł przybrać 10 postaci związanych z imieniem i nazwiskiem. Warianty email były złożeniem losowej kolejności imienia, nazwiska i losowych cyfr, wraz z kropkami pomiędzy członami. Dodatkowo wykorzystano kilka dostawców adresów mailowych."
   ]
  },
  {
   "attachments": {},
   "cell_type": "markdown",
   "metadata": {},
   "source": [
    "# Analiza danych"
   ]
  },
  {
   "attachments": {},
   "cell_type": "markdown",
   "metadata": {},
   "source": [
    "Analiza danych opiera się na pytaniach jakie z dużym prawdopodobieństwem mogłbyby się pojawić podczas prowadzenia rzeczwyistej działalności \"Geeks & Dragons\". Pytania mają za zadanie zarówno być sprawdzeniem, jakich rezultatów możemy się spodziewać stosując zapytania na podobnej rzeczywistej bazie danych, jak również pokazać nierzeczywiste elementy w generowanej bazie danych."
   ]
  },
  {
   "attachments": {},
   "cell_type": "markdown",
   "metadata": {},
   "source": [
    "#### Importy"
   ]
  },
  {
   "cell_type": "code",
   "execution_count": 1,
   "metadata": {},
   "outputs": [],
   "source": [
    "from src import orm\n",
    "import pandas as pd\n",
    "import numpy as np\n",
    "from peewee import fn\n",
    "import datetime\n",
    "import matplotlib.pyplot as plt\n",
    "import seaborn as sns"
   ]
  },
  {
   "attachments": {},
   "cell_type": "markdown",
   "metadata": {},
   "source": [
    "### Pracownik miesiąca"
   ]
  },
  {
   "attachments": {},
   "cell_type": "markdown",
   "metadata": {},
   "source": [
    "Pierwszym z pytań jest wybór pracownika miesiąca dla każdego z miesiąców, w którym działał sklep. Wybór ten jest określony na podstawie ilości wypożyczeń oraz sprzedaży wykonanych przez pracownika w danym miesiącu. Osoba z najwyższą liczbą sprzedaży i wypożyczeń jest ustalana jako pracownik miesiąca. Ponieważ sklep nie działał w czasie obostrzeń związanych z COVID-19 nie wszystkie miesiące są ujęte w wynikach."
   ]
  },
  {
   "cell_type": "code",
   "execution_count": 2,
   "metadata": {},
   "outputs": [],
   "source": [
    "current_date = datetime.date.today()\n",
    "\n",
    "earliest_hired_date = orm.Employees.select(fn.Min(orm.Employees.hired_date)).scalar()\n",
    "\n",
    "start_date = datetime.date(earliest_hired_date.year, earliest_hired_date.month, 1)\n",
    "end_date = datetime.date(current_date.year, current_date.month, 1) + datetime.timedelta(days=32)\n",
    "\n",
    "data = {}\n",
    "while start_date < current_date:\n",
    "    current_month = start_date.month\n",
    "    current_year = start_date.year\n",
    "    start_date = datetime.date(current_year, current_month, 1)\n",
    "    end_date = datetime.date(current_year, current_month, 1) + datetime.timedelta(days=32)\n",
    "    end_date = datetime.date(end_date.year, end_date.month, 1)\n",
    "    \n",
    "    # Query rentals for current month\n",
    "    rentals = (orm.Rental\n",
    "               .select(orm.Rental.employee_id, fn.Count(orm.Rental.employee_id).alias('rental_total'))\n",
    "               .where(\n",
    "                    orm.Rental.rental_date >= start_date,\n",
    "                    orm.Rental.rental_date < end_date).\n",
    "                group_by(orm.Rental.employee_id)\n",
    "                )\n",
    "    # # Query sales for current month\n",
    "    sales = (orm.Sales\n",
    "               .select(orm.Sales.employee_id, fn.Count(orm.Sales.employee_id).alias('sales_total'))\n",
    "               .where(\n",
    "                    orm.Sales.date >= start_date,\n",
    "                    orm.Sales.date < end_date).\n",
    "                group_by(orm.Sales.employee_id)\n",
    "                )\n",
    "\n",
    "    # Save results to list in dict format employee_id: (rental_total, sales_total)\n",
    "    rentals_sales = {}\n",
    "    for rental in rentals:\n",
    "        rentals_sales[rental.employee_id.id] = (rental.rental_total, 0)\n",
    "    for sale in sales:\n",
    "        if sale.employee_id.id in rentals_sales:\n",
    "            rentals_sales[sale.employee_id.id] = (rentals_sales[sale.employee_id.id][0], sale.sales_total)\n",
    "        else:\n",
    "            rentals_sales[sale.employee_id.id] = (0, sale.sales_total)\n",
    "    # Check if dict is empty\n",
    "    if rentals_sales:\n",
    "        data[f\"{current_year}-{current_month}\"] = rentals_sales\n",
    "    start_date = end_date\n"
   ]
  },
  {
   "cell_type": "code",
   "execution_count": 3,
   "metadata": {},
   "outputs": [
    {
     "name": "stdout",
     "output_type": "stream",
     "text": [
      "2018-6: Adrian Radziewicz\n",
      "2018-7: Adrian Radziewicz\n",
      "2018-8: Damian Bojarun\n",
      "2018-9: Jakub Borcoń\n",
      "2018-10: Marzena Rybak\n",
      "2018-11: Adrian Radziewicz\n",
      "2018-12: Kenneth Parker\n",
      "2019-1: Heather Smith\n",
      "2019-2: Kenneth Parker\n",
      "2019-3: Kenneth Parker\n",
      "2019-4: Marzena Rybak\n",
      "2019-5: Daniel Lee\n",
      "2019-6: Jakub Borcoń\n",
      "2019-7: Marzena Rybak\n",
      "2019-8: Kenneth Parker\n",
      "2019-9: Adrian Radziewicz\n",
      "2019-10: Kenneth Parker\n",
      "2019-11: Adrian Radziewicz\n",
      "2019-12: Adrian Radziewicz\n",
      "2020-1: Marzena Rybak\n",
      "2020-2: Daniel White\n",
      "2020-3: Kenneth Parker\n",
      "2020-5: Daniel White\n",
      "2020-6: Amanda Perez\n",
      "2020-7: Daniel Lee\n",
      "2020-8: Amanda Perez\n",
      "2020-9: Adrian Radziewicz\n",
      "2020-10: Marzena Rybak\n",
      "2020-11: Damian Bojarun\n",
      "2020-12: Daniel White\n",
      "2021-1: Damian Bojarun\n",
      "2021-2: Kenneth Parker\n",
      "2021-3: Adrian Radziewicz\n",
      "2021-4: Marzena Rybak\n",
      "2021-5: Kenneth Parker\n",
      "2021-6: Daniel White\n",
      "2021-7: Jakub Borcoń\n",
      "2021-8: Damian Bojarun\n",
      "2021-9: Kenneth Parker\n",
      "2021-10: Amanda Perez\n",
      "2021-11: Daniel White\n",
      "2021-12: Amanda Perez\n",
      "2022-1: Kenneth Parker\n",
      "2022-2: Jakub Borcoń\n",
      "2022-3: Daniel Lee\n",
      "2022-4: Damian Bojarun\n",
      "2022-5: Amanda Perez\n",
      "2022-6: Daniel Lee\n",
      "2022-7: Amanda Perez\n",
      "2022-8: Jakub Borcoń\n",
      "2022-9: Kenneth Parker\n",
      "2022-10: Daniel Lee\n",
      "2022-11: Kenneth Parker\n",
      "2022-12: Daniel Lee\n",
      "2023-1: Jakub Borcoń\n",
      "2023-2: Adrian Radziewicz\n",
      "2023-3: Kenneth Parker\n",
      "2023-4: Daniel Lee\n",
      "2023-5: Daniel White\n",
      "2023-6: Damian Bojarun\n"
     ]
    }
   ],
   "source": [
    "for month in data:\n",
    "    employee_of_the_month = max(data[month], key=lambda x: data[month][x][0] + data[month][x][1])\n",
    "    employee_of_the_month = orm.Employees.get(orm.Employees.id == employee_of_the_month)\n",
    "    print(f\"{month}: {employee_of_the_month.first_name} {employee_of_the_month.last_name}\")\n"
   ]
  },
  {
   "cell_type": "code",
   "execution_count": 4,
   "metadata": {},
   "outputs": [
    {
     "name": "stdout",
     "output_type": "stream",
     "text": [
      "Kenneth Parker: 13\n",
      "Adrian Radziewicz: 9\n",
      "Daniel Lee: 7\n",
      "Marzena Rybak: 6\n",
      "Damian Bojarun: 6\n",
      "Jakub Borcoń: 6\n",
      "Daniel White: 6\n",
      "Amanda Perez: 6\n",
      "Heather Smith: 1\n"
     ]
    }
   ],
   "source": [
    "employees = orm.Employees.select()\n",
    "counts = {\n",
    "    f\"{employee.first_name} {employee.last_name}\": 0 for employee in employees\n",
    "}\n",
    "\n",
    "for month in data:\n",
    "    employee_of_the_month = max(data[month], key=lambda x: data[month][x][0] + data[month][x][1])\n",
    "    employee_of_the_month = orm.Employees.get(orm.Employees.id == employee_of_the_month)\n",
    "    counts[f\"{employee_of_the_month.first_name} {employee_of_the_month.last_name}\"] += 1\n",
    "\n",
    "for k, v in sorted(counts.items(), key=lambda item: item[1], reverse=True):\n",
    "    print(f\"{k}: {v}\")"
   ]
  },
  {
   "attachments": {},
   "cell_type": "markdown",
   "metadata": {},
   "source": [
    "Zgodnie z otrzymanymi wynikami jest duża rozbieżność między pracownikami. Są pracownicy, którzy znacznie częściej otrzymali tytuł pracownika miesiąca, co zgadza się z intuicją w rzeczywistej sytuacji."
   ]
  },
  {
   "attachments": {},
   "cell_type": "markdown",
   "metadata": {},
   "source": [
    "### Top10 zawodników turniejowych"
   ]
  },
  {
   "attachments": {},
   "cell_type": "markdown",
   "metadata": {},
   "source": [
    "Dla każdej z siedmiu gier turniejowych został stworzony ranking najlepszych zawodników. Ranking ten bazuje na średnim wyniku z każdych zawodów w danej grze, w któych uczestnik brał udział."
   ]
  },
  {
   "cell_type": "code",
   "execution_count": 5,
   "metadata": {},
   "outputs": [],
   "source": [
    "# Get all unique tournament games\n",
    "games = orm.Competitions.select(orm.Competitions.game_id).distinct()\n",
    "\n",
    "top_players = {}\n",
    "\n",
    "for game in games:\n",
    "    query = (\n",
    "        orm.Participants\n",
    "            .select(orm.Participants.registration_id, \n",
    "                    fn.Count(orm.Participants.registration_id).alias('total'), fn.Sum(orm.Participants.score).alias('score'),\n",
    "                    fn.Avg(orm.Participants.score).alias('avg_score').alias('avg_score')\n",
    "                    )\n",
    "            .join(orm.Competitions)\n",
    "            .where(orm.Competitions.game_id == game.game_id)\n",
    "            .group_by(orm.Participants.registration_id)\n",
    "            .order_by(fn.Avg(orm.Participants.score).desc())\n",
    "            .limit(10)\n",
    "    )\n",
    "    top_players[game.game_id.name] = query.execute()"
   ]
  },
  {
   "cell_type": "code",
   "execution_count": 6,
   "metadata": {},
   "outputs": [
    {
     "name": "stdout",
     "output_type": "stream",
     "text": [
      "Reef\n",
      "Daniel Smith: 199.0000000000000000\n",
      "Jennifer Ramirez: 198.0000000000000000\n",
      "John Sanchez: 198.0000000000000000\n",
      "John Parker: 196.0000000000000000\n",
      "Richard Long: 194.0000000000000000\n",
      "James Long: 192.0000000000000000\n",
      "David Allen: 192.0000000000000000\n",
      "George Carter: 188.0000000000000000\n",
      "Rachel Bailey: 187.0000000000000000\n",
      "Gary Mitchell: 184.5000000000000000\n",
      "UNO\n",
      "Matthew Alvarez: 199.0000000000000000\n",
      "Donald Price: 195.0000000000000000\n",
      "Sandra Rodriguez: 195.0000000000000000\n",
      "Mary Garcia: 194.0000000000000000\n",
      "Julie Perez: 194.0000000000000000\n",
      "Ryan Stewart: 193.0000000000000000\n",
      "Jonathan Davis: 192.0000000000000000\n",
      "William Mitchell: 191.0000000000000000\n",
      "Zachary Nguyen: 190.0000000000000000\n",
      "Justin Campbell: 188.0000000000000000\n",
      "Spot it!\n",
      "Christopher Parker: 199.0000000000000000\n",
      "Anthony Sanchez: 199.0000000000000000\n",
      "James Roberts: 197.0000000000000000\n",
      "Robert Ramirez: 197.0000000000000000\n",
      "Cynthia Brooks: 194.0000000000000000\n",
      "James Gonzalez: 192.0000000000000000\n",
      "James Jackson: 190.0000000000000000\n",
      "Elizabeth Gray: 189.0000000000000000\n",
      "John Vasquez: 188.0000000000000000\n",
      "Thomas Smith: 187.0000000000000000\n",
      "Carcassonne\n",
      "Daniel Jackson: 197.0000000000000000\n",
      "Richard Morales: 194.0000000000000000\n",
      "Christopher Kelly: 193.0000000000000000\n",
      "Paul Kelly: 190.0000000000000000\n",
      "Mark Robinson: 189.0000000000000000\n",
      "James Long: 188.0000000000000000\n",
      "Scott Clark: 188.0000000000000000\n",
      "Amanda Cox: 187.6666666666666667\n",
      "Richard Thompson: 187.0000000000000000\n",
      "David Edwards: 186.0000000000000000\n",
      "Magic Maze\n",
      "Ryan Martinez: 199.0000000000000000\n",
      "Robert Turner: 197.0000000000000000\n",
      "Maria Gonzalez: 195.0000000000000000\n",
      "Ashley Cooper: 195.0000000000000000\n",
      "Mary Cooper: 191.0000000000000000\n",
      "Daniel Richardson: 191.0000000000000000\n",
      "Jessica Carter: 191.0000000000000000\n",
      "Robert Gonzalez: 189.0000000000000000\n",
      "Tyler Martinez: 187.0000000000000000\n",
      "James Gonzalez: 186.0000000000000000\n",
      "Happy Little Dinosaurs\n",
      "Jose Thomas: 196.0000000000000000\n",
      "Pamela Thompson: 196.0000000000000000\n",
      "Amanda Cox: 195.0000000000000000\n",
      "Paul Kelly: 195.0000000000000000\n",
      "Donald Cox: 194.0000000000000000\n",
      "Timothy Martinez: 194.0000000000000000\n",
      "Joshua Long: 193.0000000000000000\n",
      "Anthony Johnson: 192.0000000000000000\n",
      "Rachel Bailey: 192.0000000000000000\n",
      "Betty Williams: 192.0000000000000000\n",
      "Azul\n",
      "Nathan Evans: 199.0000000000000000\n",
      "Emily Hall: 199.0000000000000000\n",
      "Amanda Clark: 198.0000000000000000\n",
      "Michael Robinson: 197.0000000000000000\n",
      "Donald Miller: 197.0000000000000000\n",
      "John Edwards: 196.0000000000000000\n",
      "Daniel Perez: 195.0000000000000000\n",
      "Mark Jackson: 194.0000000000000000\n",
      "David Kim: 194.0000000000000000\n",
      "James Morgan: 194.0000000000000000\n",
      "SET\n",
      "Andrew Edwards: 199.0000000000000000\n",
      "Donald Cox: 199.0000000000000000\n",
      "Deborah Martinez: 197.0000000000000000\n",
      "Jennifer Hernandez: 197.0000000000000000\n",
      "Christina Smith: 196.0000000000000000\n",
      "Timothy Roberts: 196.0000000000000000\n",
      "Richard Morales: 195.0000000000000000\n",
      "Steven Johnson: 194.0000000000000000\n",
      "Jessica Baker: 194.0000000000000000\n",
      "Daniel Lewis: 193.0000000000000000\n"
     ]
    }
   ],
   "source": [
    "for k, v in top_players.items():\n",
    "    print(k)\n",
    "    for row in v:\n",
    "        print(f\"{row.registration_id.first_name} {row.registration_id.last_name}: {row.avg_score}\")"
   ]
  },
  {
   "attachments": {},
   "cell_type": "markdown",
   "metadata": {},
   "source": [
    "Zgodnie z intuicją związaną z systemem tworzenia rankingu znaczącą przewagę mają osoby, które w zawodach brały udział jeden raz. Wyniki zawodników są losowe, więc znacznie łatwiej jest uzyskać wysoką średnią z niewielu prób, niż gdy próba jest znacząco większa."
   ]
  },
  {
   "attachments": {},
   "cell_type": "markdown",
   "metadata": {},
   "source": [
    "### Najbardziej dochodowe gry"
   ]
  },
  {
   "attachments": {},
   "cell_type": "markdown",
   "metadata": {},
   "source": [
    "Najbardziej dochodowe gry zostały wyznaczone na podstawie obrotu związanego z daną grą podczas sprzedaży oraz wypożyczeń."
   ]
  },
  {
   "cell_type": "code",
   "execution_count": 7,
   "metadata": {},
   "outputs": [],
   "source": [
    "sales = (\n",
    "    orm.Sales\n",
    "        .select(\n",
    "            orm.GamesToSell.game_id, \n",
    "            fn.Sum(orm.GamesToSell.price))\n",
    "        .join(orm.GamesToSell)\n",
    "        .group_by(orm.GamesToSell.game_id)\n",
    "        .order_by(fn.Sum(orm.GamesToSell.price).desc())\n",
    ")\n",
    "\n",
    "rentals = (\n",
    "    orm.Rental\n",
    "        .select(\n",
    "            orm.GamesToRent.game_id, \n",
    "            fn.Sum(orm.GamesToRent.price * (1.0 - orm.GamesToRent.discount)))\n",
    "        .join(orm.GamesToRent)\n",
    "        .group_by(orm.GamesToRent.game_id)\n",
    "        .order_by(fn.Sum(orm.GamesToRent.price * (1.0 - orm.GamesToRent.discount)).desc())\n",
    ")"
   ]
  },
  {
   "cell_type": "code",
   "execution_count": 8,
   "metadata": {},
   "outputs": [
    {
     "name": "stdout",
     "output_type": "stream",
     "text": [
      "IKI: 26708.00\n",
      "The Shipwreck Arcana: 22296.72\n",
      "Tainted Grail: The Fall of Avalon: 22010.19\n",
      "Exit: The Game – Dead Man on the Orient Express: 21981.13\n",
      "The Resistance: Avalon: 21838.13\n",
      "Blood on the Clocktower: 21833.81\n",
      "The LOOP: 21262.85\n",
      "Evolution: Climate: 20748.94\n",
      "Schotten Totten: 20396.94\n",
      "Mascarade: 19734.75\n"
     ]
    }
   ],
   "source": [
    "games_total = {}\n",
    "\n",
    "for sale in sales:\n",
    "    games_total[sale.game_id.game_id.name] = sale.sum\n",
    "    \n",
    "for rental in rentals:\n",
    "    if rental.game_id.game_id.name in games_total:\n",
    "        games_total[rental.game_id.game_id.name] += rental.sum\n",
    "    else:\n",
    "        games_total[rental.game_id.game_id.name] = rental.sum\n",
    "\n",
    "c = 10\n",
    "for k, v in sorted(games_total.items(), key=lambda item: item[1], reverse=True):\n",
    "    print(f\"{k}: {v:.2f}\")\n",
    "    c -= 1\n",
    "    if c == 0:\n",
    "        break"
   ]
  },
  {
   "attachments": {},
   "cell_type": "markdown",
   "metadata": {},
   "source": [
    "Gry, które okazały się najbardziej dochodowe są również najdroższymi grami. Ceny gier oraz popularność nie była wyznaczona na podstawie rzeczywistych danych, więc wyniki te nie należy traktować jako rzeczywista przewaga jednej gry nad drugą. W rzeczywistości analizie powinny podlegać zyski, a nie obrót w celu uzyskania bardziej miarodajnych wyników."
   ]
  },
  {
   "attachments": {},
   "cell_type": "markdown",
   "metadata": {},
   "source": [
    "### Czy turnieje wpływają na wypożyczenia i zakupy danej gry?"
   ]
  },
  {
   "attachments": {},
   "cell_type": "markdown",
   "metadata": {},
   "source": [
    "Dla ostatnich 5 turniejów zostało sprawdzone, czy liczba wypożyczeń oraz sprzedaży jest większa w bliskim (tygodniowym) odstępie czasu od turnieju danej gry w porównaniu z ogólną liczbą wypożyczeń i sprzedaży tej gry."
   ]
  },
  {
   "cell_type": "code",
   "execution_count": 26,
   "metadata": {},
   "outputs": [
    {
     "name": "stdout",
     "output_type": "stream",
     "text": [
      "SET 2023-07-29\n",
      "\tTOUR_RENTALS=0.0 TOUR_SALES=0.0 ALL_RENTALS=0.0021598272138228943 ALL_SALES=0.06911447084233262\n",
      "Reef 2023-07-19\n",
      "\tTOUR_RENTALS=0.0 TOUR_SALES=0.0 ALL_RENTALS=0.0010799136069114472 ALL_SALES=0.07073434125269978\n",
      "Magic Maze 2023-07-07\n",
      "\tTOUR_RENTALS=0.0 TOUR_SALES=0.0 ALL_RENTALS=0.0021598272138228943 ALL_SALES=0.06533477321814254\n",
      "Carcassonne 2023-06-17\n",
      "\tTOUR_RENTALS=0.0 TOUR_SALES=0.03571428571428571 ALL_RENTALS=0.0005399568034557236 ALL_SALES=0.06317494600431965\n",
      "Azul 2023-06-03\n",
      "\tTOUR_RENTALS=0.0 TOUR_SALES=0.10714285714285714 ALL_RENTALS=0.0016198704103671706 ALL_SALES=0.07451403887688984\n"
     ]
    }
   ],
   "source": [
    "# Get days from first sale to last sale\n",
    "first_sale = orm.Sales.select().order_by(orm.Sales.date.asc()).limit(1).get()\n",
    "last_sale = orm.Sales.select().order_by(orm.Sales.date.desc()).limit(1).get()\n",
    "days = (last_sale.date - first_sale.date).days\n",
    "\n",
    "# Get last 5 tournaments\n",
    "tournaments = orm.Competitions.select().order_by(orm.Competitions.date.desc()).limit(5)\n",
    "\n",
    "for tournament in tournaments:\n",
    "    tournament_date = tournament.date\n",
    "    tournament_game = tournament.game_id\n",
    "\n",
    "    tour_rentals = orm.Rental.select().where(\n",
    "        orm.Rental.rental_date <= tournament_date + datetime.timedelta(days=14),\n",
    "        orm.Rental.rental_date >= tournament_date - datetime.timedelta(days=14),\n",
    "        orm.Rental.game_id == tournament_game\n",
    "    )\n",
    "\n",
    "    tour_sales = orm.Sales.select().where(\n",
    "        orm.Sales.date <= tournament_date + datetime.timedelta(days=14),\n",
    "        orm.Sales.date >= tournament_date - datetime.timedelta(days=14),\n",
    "        orm.Sales.game_id == tournament_game\n",
    "    )\n",
    "\n",
    "\n",
    "    # Get total number of rentals and sales for this game\n",
    "    all_rentals = orm.Rental.select().where(\n",
    "        orm.Rental.game_id == tournament_game\n",
    "    )\n",
    "\n",
    "    all_sales = orm.Sales.select().where(\n",
    "        orm.Sales.game_id == tournament_game\n",
    "    )\n",
    "\n",
    "    # datetime to strftime\n",
    "    print(f\"{tournament_game.name} {tournament_date.strftime('%Y-%m-%d')}\\n\\tTOUR_RENTALS={len(tour_rentals) / 28} TOUR_SALES={len(tour_sales) / 28} ALL_RENTALS={len(all_rentals) / days} ALL_SALES={len(all_sales) / days}\")\n"
   ]
  },
  {
   "attachments": {},
   "cell_type": "markdown",
   "metadata": {},
   "source": [
    "Otrzymane wyniki sugerują, że turnieje nie wpływają na popularność danej gry. W rzeczywistej sytuacji bardziej prawdopdobną sytuacją jest wzrost sprzedaży oraz wypożyczeń. \n",
    "\n",
    "Wartym zauważenia jest fakt małej liczby wypożyczeń danej gry w ciągu dwóch tygodni, w któych odbywa się turniej. Jest to spowodowane faktem dużej ilości gier dostępnych w sklepie, a przez to małą szansą na wpożyczenie konkretnego tytułu."
   ]
  },
  {
   "attachments": {},
   "cell_type": "markdown",
   "metadata": {},
   "source": [
    "### Ocena zadowolenia klientów"
   ]
  },
  {
   "attachments": {},
   "cell_type": "markdown",
   "metadata": {},
   "source": [
    "Ocena zadowolenia klientów została przeprowadzona na podstawie ponownych wypożyczeń wykonanych przez tą samą osobę."
   ]
  },
  {
   "cell_type": "code",
   "execution_count": 10,
   "metadata": {},
   "outputs": [
    {
     "data": {
      "text/plain": [
       "<Axes: >"
      ]
     },
     "execution_count": 10,
     "metadata": {},
     "output_type": "execute_result"
    },
    {
     "data": {
      "image/png": "[encoded data removed]",
      "text/plain": [
       "<Figure size 640x480 with 1 Axes>"
      ]
     },
     "metadata": {},
     "output_type": "display_data"
    }
   ],
   "source": [
    "# Get average number of rentals per client\n",
    "rentals = orm.Rental.select(orm.Rental.customer_id, fn.Count(orm.Rental.customer_id).alias('count')).group_by(orm.Rental.customer_id)\n",
    "\n",
    "# Seaborn boxplot\n",
    "sns.boxplot(x=[rental.count for rental in rentals])"
   ]
  },
  {
   "attachments": {},
   "cell_type": "markdown",
   "metadata": {},
   "source": [
    "Na podstawie wykresu pudełkowego widzimy, że większość klientów po kilku wypożyczeniach gier już nie wraca do sklepu. Zgadza się to z generacją danych, w której założono, że z prawdopodobieństwem 0.2 klient po wypożyczeniu gry więcej nie wróci do sklepu.\n",
    "\n",
    "Zadowolenie klientów możemy ocenić jako średnie, ponieważ liczba wypożyczeń jest dość niska. Pojawiają się obserwacje odstające - stali klienci, którzy wypożyczają znacznie więcej gier od pozostałych."
   ]
  },
  {
   "attachments": {},
   "cell_type": "markdown",
   "metadata": {},
   "source": [
    "### Najbardziej popularne kategorie i mechaniki gier"
   ]
  },
  {
   "attachments": {},
   "cell_type": "markdown",
   "metadata": {},
   "source": [
    "Jako jedną z informacji o grach znamy ich kategorie oraz mechaniki. Najbardziej popularne zostały określone jako najczęściej występujące."
   ]
  },
  {
   "cell_type": "code",
   "execution_count": 11,
   "metadata": {},
   "outputs": [
    {
     "name": "stdout",
     "output_type": "stream",
     "text": [
      "===KATEGORIE===\n",
      "Card Game: 11817\n",
      "Fantasy: 6704\n",
      "Economic: 6268\n",
      "Animals: 3968\n",
      "Exploration: 3702\n",
      "Fighting: 3663\n",
      "Science Fiction: 3510\n",
      "Party Game: 3208\n",
      "Deduction: 2978\n",
      "Adventure: 2930\n",
      "===MECHANIKI===\n",
      "Hand Management: 14142\n",
      "Variable Player Powers: 10746\n",
      "Solo / Solitaire Game: 10255\n",
      "Set Collection: 9863\n",
      "Open Drafting: 7897\n",
      "Dice Rolling: 6931\n",
      "Cooperative Game: 6007\n",
      "Tile Placement: 5483\n",
      "End Game Bonuses: 5134\n",
      "Variable Set-up: 4713\n"
     ]
    }
   ],
   "source": [
    "# Get count of sales per game\n",
    "sales = orm.Sales.select(orm.Sales.game_id, fn.Count(orm.Sales.game_id).alias('count')).group_by(orm.Sales.game_id)\n",
    "# Get count of rentals per game\n",
    "rentals = orm.Rental.select(orm.Rental.game_id, fn.Count(orm.Rental.game_id).alias('count')).group_by(orm.Rental.game_id)\n",
    "\n",
    "categories_popularity = {}\n",
    "mechanics_popularity = {}\n",
    "\n",
    "for sale in sales:\n",
    "    categories = sale.game_id.game_id.category\n",
    "    mechanics = sale.game_id.game_id.mechanic\n",
    "\n",
    "    for category in categories.split(','):\n",
    "        if category in categories_popularity:\n",
    "            categories_popularity[category] += sale.count\n",
    "        else:\n",
    "            categories_popularity[category] = sale.count\n",
    "\n",
    "    for mechanic in mechanics.split(','):\n",
    "        if mechanic in mechanics_popularity:\n",
    "            mechanics_popularity[mechanic] += sale.count\n",
    "        else:\n",
    "            mechanics_popularity[mechanic] = sale.count\n",
    "\n",
    "for rental in rentals:\n",
    "    categories = rental.game_id.game_id.category\n",
    "    mechanics = rental.game_id.game_id.mechanic\n",
    "\n",
    "    for category in categories.split(','):\n",
    "        if category in categories_popularity:\n",
    "            categories_popularity[category] += rental.count\n",
    "        else:\n",
    "            categories_popularity[category] = rental.count\n",
    "\n",
    "    for mechanic in mechanics.split(','):\n",
    "        if mechanic in mechanics_popularity:\n",
    "            mechanics_popularity[mechanic] += rental.count\n",
    "        else:\n",
    "            mechanics_popularity[mechanic] = rental.count\n",
    "\n",
    "# Print Top 10 categories\n",
    "print(\"===KATEGORIE===\")\n",
    "c = 10\n",
    "for k, v in sorted(categories_popularity.items(), key=lambda item: item[1], reverse=True):\n",
    "    print(f\"{k}: {v}\")\n",
    "    c -= 1\n",
    "    if c == 0:\n",
    "        break\n",
    "\n",
    "print(\"===MECHANIKI===\")\n",
    "# Print Top 10 mechanics\n",
    "c = 10\n",
    "for k, v in sorted(mechanics_popularity.items(), key=lambda item: item[1], reverse=True):\n",
    "    print(f\"{k}: {v}\")\n",
    "    c -= 1\n",
    "    if c == 0:\n",
    "        break"
   ]
  },
  {
   "attachments": {},
   "cell_type": "markdown",
   "metadata": {},
   "source": [
    "Zgodnie z otrzymanymi wynikami widzimy, że niektóre kategorie i mechaniki są znacznie popularniejsze od pozostałych. W przypadku naszej symulacji jest to spowodowane ilością gier, która jest określana jako z danej kategorii lub zawierająca daną mechanikę (gra może należeć do więcej niż jednej kategorii i być dopasowana do więcej niż jednej mechaniki)."
   ]
  },
  {
   "attachments": {},
   "cell_type": "markdown",
   "metadata": {},
   "source": [
    "### Koszt gier a wypożyczenia i zakupy"
   ]
  },
  {
   "attachments": {},
   "cell_type": "markdown",
   "metadata": {},
   "source": [
    "Naturalnym jest, że spodziewamy się, że tańsze gry będą częściej sprzedawane niż wypożyczane, a droższe na odwrót. Poniżej sprawdzamy, czy ta zależność również jest do zaobserwowania w wygenerowanej bazie."
   ]
  },
  {
   "cell_type": "code",
   "execution_count": 12,
   "metadata": {},
   "outputs": [
    {
     "data": {
      "text/plain": [
       "(60.0, 200.0)"
      ]
     },
     "execution_count": 12,
     "metadata": {},
     "output_type": "execute_result"
    }
   ],
   "source": [
    "# Get min and max game cost\n",
    "min_cost = orm.GamesToSell.select(fn.Min(orm.GamesToSell.price)).scalar()\n",
    "max_cost = orm.GamesToSell.select(fn.Max(orm.GamesToSell.price)).scalar()\n",
    "min_cost, max_cost"
   ]
  },
  {
   "cell_type": "code",
   "execution_count": 13,
   "metadata": {},
   "outputs": [
    {
     "name": "stdout",
     "output_type": "stream",
     "text": [
      "60.00-75.56: 43\n",
      "75.56-91.11: 39\n",
      "91.11-106.67: 47\n",
      "106.67-122.22: 45\n",
      "122.22-137.78: 30\n",
      "137.78-153.33: 20\n",
      "153.33-168.89: 8\n",
      "168.89-184.44: 1\n",
      "184.44-200.00: 0\n"
     ]
    }
   ],
   "source": [
    "splits = np.linspace(min_cost, max_cost, 10)\n",
    "\n",
    "for min_cost, max_cost in zip(splits, splits[1:]):\n",
    "    count = orm.GamesToSell.select().where(\n",
    "        orm.GamesToSell.price >= min_cost,\n",
    "        orm.GamesToSell.price < max_cost\n",
    "    ).count()\n",
    "\n",
    "    print(f\"{min_cost:.2f}-{max_cost:.2f}: {count}\")"
   ]
  },
  {
   "cell_type": "code",
   "execution_count": 14,
   "metadata": {},
   "outputs": [
    {
     "data": {
      "text/plain": [
       "(4.199999999999999, 20.0)"
      ]
     },
     "execution_count": 14,
     "metadata": {},
     "output_type": "execute_result"
    }
   ],
   "source": [
    "# Get min and max game cost\n",
    "min_cost = orm.GamesToRent.select(fn.Min(orm.GamesToRent.price * (1.0 - orm.GamesToRent.discount))).scalar()\n",
    "max_cost = orm.GamesToRent.select(fn.Max(orm.GamesToRent.price * (1.0 - orm.GamesToRent.discount))).scalar()\n",
    "min_cost, max_cost"
   ]
  },
  {
   "cell_type": "code",
   "execution_count": 15,
   "metadata": {},
   "outputs": [
    {
     "name": "stdout",
     "output_type": "stream",
     "text": [
      "4.20-5.96: 41\n",
      "5.96-7.71: 253\n",
      "7.71-9.47: 249\n",
      "9.47-11.22: 238\n",
      "11.22-12.98: 210\n",
      "12.98-14.73: 120\n",
      "14.73-16.49: 60\n",
      "16.49-18.24: 7\n",
      "18.24-20.00: 0\n"
     ]
    }
   ],
   "source": [
    "splits = np.linspace(min_cost, max_cost, 10)\n",
    "\n",
    "for min_cost, max_cost in zip(splits, splits[1:]):\n",
    "    count = orm.GamesToRent.select().where(\n",
    "        orm.GamesToRent.price * (1.0 - orm.GamesToRent.discount) >= min_cost,\n",
    "        orm.GamesToRent.price * (1.0 - orm.GamesToRent.discount) < max_cost\n",
    "    ).count()\n",
    "\n",
    "    print(f\"{min_cost:.2f}-{max_cost:.2f}: {count}\")"
   ]
  },
  {
   "attachments": {},
   "cell_type": "markdown",
   "metadata": {},
   "source": [
    "Z otrzymanych wyników nie jesteśmy w stanie zauważyć bezpośredniej zależności między ceną gry, a liczbą jej sprzedaży i wypożyczeń."
   ]
  },
  {
   "attachments": {},
   "cell_type": "markdown",
   "metadata": {},
   "source": [
    "### Ile klienci płacą dodatkowych opłat?"
   ]
  },
  {
   "attachments": {},
   "cell_type": "markdown",
   "metadata": {},
   "source": [
    "Pytanie dotyczące płacenia dodatkowych opłat może być pomocne przy określaniu wielkości tych opłat w przyszłości i ustalaniu okresu bazowego, dla którego nie podnosimy opłaty."
   ]
  },
  {
   "cell_type": "code",
   "execution_count": 16,
   "metadata": {},
   "outputs": [
    {
     "name": "stdout",
     "output_type": "stream",
     "text": [
      "0.0: 2433\n",
      "0.1: 55\n",
      "0.2: 49\n",
      "0.5: 33\n"
     ]
    }
   ],
   "source": [
    "# Count each additional_payment_id in rental\n",
    "res = (\n",
    "    orm.Rental\n",
    "        .select(orm.Rental.additional_payment_id.alias('ap_id'), fn.Count(orm.Rental.additional_payment_id).alias('count'))\n",
    "        .where(orm.Rental.additional_payment_id.is_null(False))\n",
    "        .group_by(orm.Rental.additional_payment_id)\n",
    ").execute()\n",
    "\n",
    "# Sort by percent\\\n",
    "res = sorted(res, key=lambda x: orm.AdditionalPayment.get(orm.AdditionalPayment.id == x.ap_id).payment_percent, reverse=False)\n",
    "for r in res:\n",
    "    # print(r.ap_id, type(r.ap_id))\n",
    "    ap = orm.AdditionalPayment.get(orm.AdditionalPayment.id == r.ap_id)\n",
    "    print(f\"{ap.payment_percent}: {r.count}\")"
   ]
  },
  {
   "attachments": {},
   "cell_type": "markdown",
   "metadata": {},
   "source": [
    "Większosć klientów zwraca grę wciągu tygodnia, dla którego nie przyznajemy dodatkowej opłaty. Dla nielicznych przypadków została naliczona opłata dodatkowa, co sugeruje, że wyznaczony bazowy termin oddania gry - tydzień jest odpowiednio dobrany."
   ]
  },
  {
   "attachments": {},
   "cell_type": "markdown",
   "metadata": {},
   "source": [
    "### W jakich godzinach jest najwięcej zakupów i wypożyczeń?"
   ]
  },
  {
   "attachments": {},
   "cell_type": "markdown",
   "metadata": {},
   "source": [
    "Na podstawie ilości sprzedaży oraz wypożyczeń w ciągu dnia możemy określać liczbę pracowników pracująch w danych godzinach."
   ]
  },
  {
   "cell_type": "code",
   "execution_count": 23,
   "metadata": {},
   "outputs": [
    {
     "name": "stdout",
     "output_type": "stream",
     "text": [
      "10: 330\n",
      "11: 393\n",
      "12: 339\n",
      "13: 397\n",
      "14: 355\n",
      "15: 392\n",
      "16: 387\n"
     ]
    }
   ],
   "source": [
    "res = (\n",
    "    orm.Rental\n",
    "        .select(\n",
    "            orm.db.extract_date('hour', orm.Rental.rental_date).alias(\"hour\"),\n",
    "            fn.Count(orm.Rental.id).alias(\"count\")\n",
    "        )\n",
    "        .group_by(orm.db.extract_date('hour', orm.Rental.rental_date))\n",
    "        .order_by(orm.db.extract_date('hour', orm.Rental.rental_date))\n",
    ")\n",
    "\n",
    "for r in res:\n",
    "    print(f\"{r.hour}: {r.count}\")"
   ]
  },
  {
   "cell_type": "code",
   "execution_count": 25,
   "metadata": {},
   "outputs": [
    {
     "name": "stdout",
     "output_type": "stream",
     "text": [
      "10: 3734\n",
      "11: 3751\n",
      "12: 3699\n",
      "13: 3800\n",
      "14: 3832\n",
      "15: 3789\n",
      "16: 3899\n",
      "17: 3751\n"
     ]
    }
   ],
   "source": [
    "res = (\n",
    "    orm.Sales\n",
    "        .select(\n",
    "            orm.db.extract_date('hour', orm.Sales.date).alias(\"hour\"),\n",
    "            fn.Count(orm.Sales.id).alias(\"count\")\n",
    "        )\n",
    "        .group_by(orm.db.extract_date('hour', orm.Sales.date))\n",
    "        .order_by(orm.db.extract_date('hour', orm.Sales.date))\n",
    ")\n",
    "\n",
    "for r in res:\n",
    "    print(f\"{r.hour}: {r.count}\")"
   ]
  },
  {
   "attachments": {},
   "cell_type": "markdown",
   "metadata": {},
   "source": [
    "Godzina nie wpływa na liczbę sprzedaży i wypożyczeń, przez co możemy wnioskować, że przez cały okres otwarcia sklepu (od 10:00 do 18:00) powinno być tyle samo pracowników. Sytuacja taka jest mało prawdopdobna w rzeczywistości."
   ]
  },
  {
   "attachments": {},
   "cell_type": "markdown",
   "metadata": {},
   "source": [
    "# Podsumowanie"
   ]
  },
  {
   "attachments": {},
   "cell_type": "markdown",
   "metadata": {},
   "source": [
    "Stworzona baza danych pozwala na przeprowadzanie analiz danych sklepu. Jest ona wystarczająca do sprawdzenie wielu zależności i korzystanie z niej nie sprawia problemów. Częściowo oddaje ona rzeczywiste dane, ale nie jest to do końca spełnione, w związku z wciąż mała realnością sposobu generowania danych. Generowanie bardziej realnych danych jest znacznie trudniejszym zadaniem wymagającym więcej pracy, które może byc nie opłacalne w celach podstawowej analizy."
   ]
  },
  {
   "attachments": {},
   "cell_type": "markdown",
   "metadata": {},
   "source": [
    "## "
   ]
  }
 ],
 "metadata": {
  "kernelspec": {
   "display_name": "venv",
   "language": "python",
   "name": "python3"
  },
  "language_info": {
   "codemirror_mode": {
    "name": "ipython",
    "version": 3
   },
   "file_extension": ".py",
   "mimetype": "text/x-python",
   "name": "python",
   "nbconvert_exporter": "python",
   "pygments_lexer": "ipython3",
   "version": "3.9.5"
  },
  "orig_nbformat": 4
 },
 "nbformat": 4,
 "nbformat_minor": 2
}
